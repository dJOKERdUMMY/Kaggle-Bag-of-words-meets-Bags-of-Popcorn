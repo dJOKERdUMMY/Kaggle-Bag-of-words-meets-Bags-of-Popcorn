{
 "cells": [
  {
   "cell_type": "code",
   "execution_count": 1,
   "metadata": {
    "collapsed": true
   },
   "outputs": [],
   "source": [
    "#importing pandas because it's good\n",
    "import pandas as pd"
   ]
  },
  {
   "cell_type": "code",
   "execution_count": 2,
   "metadata": {
    "collapsed": true
   },
   "outputs": [],
   "source": [
    "#reading the file\n",
    "train = pd.read_csv(\"data/labeledTrainData.tsv\", header=0, delimiter=\"\\t\", quoting=3)"
   ]
  },
  {
   "cell_type": "code",
   "execution_count": 3,
   "metadata": {},
   "outputs": [
    {
     "data": {
      "text/html": [
       "<div>\n",
       "<style>\n",
       "    .dataframe thead tr:only-child th {\n",
       "        text-align: right;\n",
       "    }\n",
       "\n",
       "    .dataframe thead th {\n",
       "        text-align: left;\n",
       "    }\n",
       "\n",
       "    .dataframe tbody tr th {\n",
       "        vertical-align: top;\n",
       "    }\n",
       "</style>\n",
       "<table border=\"1\" class=\"dataframe\">\n",
       "  <thead>\n",
       "    <tr style=\"text-align: right;\">\n",
       "      <th></th>\n",
       "      <th>id</th>\n",
       "      <th>sentiment</th>\n",
       "      <th>review</th>\n",
       "    </tr>\n",
       "  </thead>\n",
       "  <tbody>\n",
       "    <tr>\n",
       "      <th>0</th>\n",
       "      <td>\"5814_8\"</td>\n",
       "      <td>1</td>\n",
       "      <td>\"With all this stuff going down at the moment ...</td>\n",
       "    </tr>\n",
       "    <tr>\n",
       "      <th>1</th>\n",
       "      <td>\"2381_9\"</td>\n",
       "      <td>1</td>\n",
       "      <td>\"\\\"The Classic War of the Worlds\\\" by Timothy ...</td>\n",
       "    </tr>\n",
       "    <tr>\n",
       "      <th>2</th>\n",
       "      <td>\"7759_3\"</td>\n",
       "      <td>0</td>\n",
       "      <td>\"The film starts with a manager (Nicholas Bell...</td>\n",
       "    </tr>\n",
       "    <tr>\n",
       "      <th>3</th>\n",
       "      <td>\"3630_4\"</td>\n",
       "      <td>0</td>\n",
       "      <td>\"It must be assumed that those who praised thi...</td>\n",
       "    </tr>\n",
       "    <tr>\n",
       "      <th>4</th>\n",
       "      <td>\"9495_8\"</td>\n",
       "      <td>1</td>\n",
       "      <td>\"Superbly trashy and wondrously unpretentious ...</td>\n",
       "    </tr>\n",
       "  </tbody>\n",
       "</table>\n",
       "</div>"
      ],
      "text/plain": [
       "         id  sentiment                                             review\n",
       "0  \"5814_8\"          1  \"With all this stuff going down at the moment ...\n",
       "1  \"2381_9\"          1  \"\\\"The Classic War of the Worlds\\\" by Timothy ...\n",
       "2  \"7759_3\"          0  \"The film starts with a manager (Nicholas Bell...\n",
       "3  \"3630_4\"          0  \"It must be assumed that those who praised thi...\n",
       "4  \"9495_8\"          1  \"Superbly trashy and wondrously unpretentious ..."
      ]
     },
     "execution_count": 3,
     "metadata": {},
     "output_type": "execute_result"
    }
   ],
   "source": [
    "#exploratory data anaysis\n",
    "train.head()"
   ]
  },
  {
   "cell_type": "code",
   "execution_count": 4,
   "metadata": {},
   "outputs": [
    {
     "name": "stdout",
     "output_type": "stream",
     "text": [
      "(25000, 3)\n"
     ]
    }
   ],
   "source": [
    "#exploration again\n",
    "print(train.shape)"
   ]
  },
  {
   "cell_type": "code",
   "execution_count": 5,
   "metadata": {},
   "outputs": [
    {
     "name": "stdout",
     "output_type": "stream",
     "text": [
      "['id' 'sentiment' 'review']\n"
     ]
    }
   ],
   "source": [
    "#still exploring\n",
    "print(train.columns.values)"
   ]
  },
  {
   "cell_type": "code",
   "execution_count": 6,
   "metadata": {
    "scrolled": true
   },
   "outputs": [
    {
     "name": "stdout",
     "output_type": "stream",
     "text": [
      "\"With all this stuff going down at the moment with MJ i've started listening to his music, watching the odd documentary here and there, watched The Wiz and watched Moonwalker again. Maybe i just want to get a certain insight into this guy who i thought was really cool in the eighties just to maybe make up my mind whether he is guilty or innocent. Moonwalker is part biography, part feature film which i remember going to see at the cinema when it was originally released. Some of it has subtle messages about MJ's feeling towards the press and also the obvious message of drugs are bad m'kay.<br /><br />Visually impressive but of course this is all about Michael Jackson so unless you remotely like MJ in anyway then you are going to hate this and find it boring. Some may call MJ an egotist for consenting to the making of this movie BUT MJ and most of his fans would say that he made it for the fans which if true is really nice of him.<br /><br />The actual feature film bit when it finally starts is only on for 20 minutes or so excluding the Smooth Criminal sequence and Joe Pesci is convincing as a psychopathic all powerful drug lord. Why he wants MJ dead so bad is beyond me. Because MJ overheard his plans? Nah, Joe Pesci's character ranted that he wanted people to know it is he who is supplying drugs etc so i dunno, maybe he just hates MJ's music.<br /><br />Lots of cool things in this like MJ turning into a car and a robot and the whole Speed Demon sequence. Also, the director must have had the patience of a saint when it came to filming the kiddy Bad sequence as usually directors hate working with one kid let alone a whole bunch of them performing a complex dance scene.<br /><br />Bottom line, this movie is for people who like MJ on one level or another (which i think is most people). If not, then stay away. It does try and give off a wholesome message and ironically MJ's bestest buddy in this movie is a girl! Michael Jackson is truly one of the most talented people ever to grace this planet but is he guilty? Well, with all the attention i've gave this subject....hmmm well i don't know because people can be different behind closed doors, i know this for a fact. He is either an extremely nice but stupid guy or one of the most sickest liars. I hope he is not the latter.\"\n"
     ]
    }
   ],
   "source": [
    "#viewing the structure of data we need to work on\n",
    "print(train.review[0])"
   ]
  },
  {
   "cell_type": "code",
   "execution_count": 7,
   "metadata": {
    "collapsed": true
   },
   "outputs": [],
   "source": [
    "#using BeautifulSoup to clean data initially\n",
    "from bs4 import BeautifulSoup\n",
    "#the html tags and comments etc are reomved and stored as example1\n",
    "example1 = BeautifulSoup(train.review[0],\"html.parser\")"
   ]
  },
  {
   "cell_type": "code",
   "execution_count": 8,
   "metadata": {
    "scrolled": true
   },
   "outputs": [
    {
     "name": "stdout",
     "output_type": "stream",
     "text": [
      "\"With all this stuff going down at the moment with MJ i've started listening to his music, watching the odd documentary here and there, watched The Wiz and watched Moonwalker again. Maybe i just want to get a certain insight into this guy who i thought was really cool in the eighties just to maybe make up my mind whether he is guilty or innocent. Moonwalker is part biography, part feature film which i remember going to see at the cinema when it was originally released. Some of it has subtle messages about MJ's feeling towards the press and also the obvious message of drugs are bad m'kay.Visually impressive but of course this is all about Michael Jackson so unless you remotely like MJ in anyway then you are going to hate this and find it boring. Some may call MJ an egotist for consenting to the making of this movie BUT MJ and most of his fans would say that he made it for the fans which if true is really nice of him.The actual feature film bit when it finally starts is only on for 20 minutes or so excluding the Smooth Criminal sequence and Joe Pesci is convincing as a psychopathic all powerful drug lord. Why he wants MJ dead so bad is beyond me. Because MJ overheard his plans? Nah, Joe Pesci's character ranted that he wanted people to know it is he who is supplying drugs etc so i dunno, maybe he just hates MJ's music.Lots of cool things in this like MJ turning into a car and a robot and the whole Speed Demon sequence. Also, the director must have had the patience of a saint when it came to filming the kiddy Bad sequence as usually directors hate working with one kid let alone a whole bunch of them performing a complex dance scene.Bottom line, this movie is for people who like MJ on one level or another (which i think is most people). If not, then stay away. It does try and give off a wholesome message and ironically MJ's bestest buddy in this movie is a girl! Michael Jackson is truly one of the most talented people ever to grace this planet but is he guilty? Well, with all the attention i've gave this subject....hmmm well i don't know because people can be different behind closed doors, i know this for a fact. He is either an extremely nice but stupid guy or one of the most sickest liars. I hope he is not the latter.\"\n"
     ]
    }
   ],
   "source": [
    "#by using .get_text() method we can see the only texts in the html document\n",
    "#it is also better as compared to the raw html doc\n",
    "print(example1.get_text())"
   ]
  },
  {
   "cell_type": "code",
   "execution_count": 9,
   "metadata": {},
   "outputs": [
    {
     "name": "stdout",
     "output_type": "stream",
     "text": [
      " With all this stuff going down at the moment with MJ i ve started listening to his music  watching the odd documentary here and there  watched The Wiz and watched Moonwalker again  Maybe i just want to get a certain insight into this guy who i thought was really cool in the eighties just to maybe make up my mind whether he is guilty or innocent  Moonwalker is part biography  part feature film which i remember going to see at the cinema when it was originally released  Some of it has subtle messages about MJ s feeling towards the press and also the obvious message of drugs are bad m kay Visually impressive but of course this is all about Michael Jackson so unless you remotely like MJ in anyway then you are going to hate this and find it boring  Some may call MJ an egotist for consenting to the making of this movie BUT MJ and most of his fans would say that he made it for the fans which if true is really nice of him The actual feature film bit when it finally starts is only on for    minutes or so excluding the Smooth Criminal sequence and Joe Pesci is convincing as a psychopathic all powerful drug lord  Why he wants MJ dead so bad is beyond me  Because MJ overheard his plans  Nah  Joe Pesci s character ranted that he wanted people to know it is he who is supplying drugs etc so i dunno  maybe he just hates MJ s music Lots of cool things in this like MJ turning into a car and a robot and the whole Speed Demon sequence  Also  the director must have had the patience of a saint when it came to filming the kiddy Bad sequence as usually directors hate working with one kid let alone a whole bunch of them performing a complex dance scene Bottom line  this movie is for people who like MJ on one level or another  which i think is most people   If not  then stay away  It does try and give off a wholesome message and ironically MJ s bestest buddy in this movie is a girl  Michael Jackson is truly one of the most talented people ever to grace this planet but is he guilty  Well  with all the attention i ve gave this subject    hmmm well i don t know because people can be different behind closed doors  i know this for a fact  He is either an extremely nice but stupid guy or one of the most sickest liars  I hope he is not the latter  \n"
     ]
    }
   ],
   "source": [
    "#removing numbers\n",
    "import re\n",
    "# a '^' within square brackets searches anything other than the one on it\n",
    "# hence here it matches everything numbers and punctuations etc , leaving only the words\n",
    "letters_only = re.sub(\"[^a-zA-Z]\",\" \",example1.get_text())\n",
    "print(letters_only)"
   ]
  },
  {
   "cell_type": "code",
   "execution_count": 10,
   "metadata": {
    "collapsed": true
   },
   "outputs": [],
   "source": [
    "# changing all the words to lowercase to create a bag of words later\n",
    "lower_case = letters_only.lower()\n",
    "# the whole doc is now split to create an array from which most common words called \"stop words\" will be removed\n",
    "words = lower_case.split()"
   ]
  },
  {
   "cell_type": "code",
   "execution_count": 11,
   "metadata": {},
   "outputs": [
    {
     "name": "stdout",
     "output_type": "stream",
     "text": [
      "['i', 'me', 'my', 'myself', 'we', 'our', 'ours', 'ourselves', 'you', 'your', 'yours', 'yourself', 'yourselves', 'he', 'him', 'his', 'himself', 'she', 'her', 'hers', 'herself', 'it', 'its', 'itself', 'they', 'them', 'their', 'theirs', 'themselves', 'what', 'which', 'who', 'whom', 'this', 'that', 'these', 'those', 'am', 'is', 'are', 'was', 'were', 'be', 'been', 'being', 'have', 'has', 'had', 'having', 'do', 'does', 'did', 'doing', 'a', 'an', 'the', 'and', 'but', 'if', 'or', 'because', 'as', 'until', 'while', 'of', 'at', 'by', 'for', 'with', 'about', 'against', 'between', 'into', 'through', 'during', 'before', 'after', 'above', 'below', 'to', 'from', 'up', 'down', 'in', 'out', 'on', 'off', 'over', 'under', 'again', 'further', 'then', 'once', 'here', 'there', 'when', 'where', 'why', 'how', 'all', 'any', 'both', 'each', 'few', 'more', 'most', 'other', 'some', 'such', 'no', 'nor', 'not', 'only', 'own', 'same', 'so', 'than', 'too', 'very', 's', 't', 'can', 'will', 'just', 'don', 'should', 'now', 'd', 'll', 'm', 'o', 're', 've', 'y', 'ain', 'aren', 'couldn', 'didn', 'doesn', 'hadn', 'hasn', 'haven', 'isn', 'ma', 'mightn', 'mustn', 'needn', 'shan', 'shouldn', 'wasn', 'weren', 'won', 'wouldn']\n"
     ]
    }
   ],
   "source": [
    "#importing stopwords from nltk\n",
    "from nltk.corpus import stopwords\n",
    "#some stopwords in english language are\n",
    "print(stopwords.words(\"english\"))"
   ]
  },
  {
   "cell_type": "code",
   "execution_count": 12,
   "metadata": {},
   "outputs": [
    {
     "name": "stdout",
     "output_type": "stream",
     "text": [
      "['stuff', 'going', 'moment', 'mj', 'started', 'listening', 'music', 'watching', 'odd', 'documentary', 'watched', 'wiz', 'watched', 'moonwalker', 'maybe', 'want', 'get', 'certain', 'insight', 'guy', 'thought', 'really', 'cool', 'eighties', 'maybe', 'make', 'mind', 'whether', 'guilty', 'innocent', 'moonwalker', 'part', 'biography', 'part', 'feature', 'film', 'remember', 'going', 'see', 'cinema', 'originally', 'released', 'subtle', 'messages', 'mj', 'feeling', 'towards', 'press', 'also', 'obvious', 'message', 'drugs', 'bad', 'kay', 'visually', 'impressive', 'course', 'michael', 'jackson', 'unless', 'remotely', 'like', 'mj', 'anyway', 'going', 'hate', 'find', 'boring', 'may', 'call', 'mj', 'egotist', 'consenting', 'making', 'movie', 'mj', 'fans', 'would', 'say', 'made', 'fans', 'true', 'really', 'nice', 'actual', 'feature', 'film', 'bit', 'finally', 'starts', 'minutes', 'excluding', 'smooth', 'criminal', 'sequence', 'joe', 'pesci', 'convincing', 'psychopathic', 'powerful', 'drug', 'lord', 'wants', 'mj', 'dead', 'bad', 'beyond', 'mj', 'overheard', 'plans', 'nah', 'joe', 'pesci', 'character', 'ranted', 'wanted', 'people', 'know', 'supplying', 'drugs', 'etc', 'dunno', 'maybe', 'hates', 'mj', 'music', 'lots', 'cool', 'things', 'like', 'mj', 'turning', 'car', 'robot', 'whole', 'speed', 'demon', 'sequence', 'also', 'director', 'must', 'patience', 'saint', 'came', 'filming', 'kiddy', 'bad', 'sequence', 'usually', 'directors', 'hate', 'working', 'one', 'kid', 'let', 'alone', 'whole', 'bunch', 'performing', 'complex', 'dance', 'scene', 'bottom', 'line', 'movie', 'people', 'like', 'mj', 'one', 'level', 'another', 'think', 'people', 'stay', 'away', 'try', 'give', 'wholesome', 'message', 'ironically', 'mj', 'bestest', 'buddy', 'movie', 'girl', 'michael', 'jackson', 'truly', 'one', 'talented', 'people', 'ever', 'grace', 'planet', 'guilty', 'well', 'attention', 'gave', 'subject', 'hmmm', 'well', 'know', 'people', 'different', 'behind', 'closed', 'doors', 'know', 'fact', 'either', 'extremely', 'nice', 'stupid', 'guy', 'one', 'sickest', 'liars', 'hope', 'latter']\n"
     ]
    }
   ],
   "source": [
    "#removing most common words from doc\n",
    "words = [w for w in words if w not in stopwords.words(\"english\")]\n",
    "print(words)"
   ]
  },
  {
   "cell_type": "code",
   "execution_count": 13,
   "metadata": {
    "collapsed": true
   },
   "outputs": [],
   "source": [
    "# the above code cleans only one review , let's make a function from above code that can clean all the reviews\n",
    "def review_to_words(raw_review):\n",
    "    #remove html using BeautifulSoup\n",
    "    review_text = BeautifulSoup(raw_review,\"html.parser\").get_text()\n",
    "    #removing raw letters,numbers,punctuations\n",
    "    letters_only = re.sub(\"[^a-zA-Z]\",\" \",review_text)\n",
    "    #creating an array , resolving whitespaces\n",
    "    words = letters_only.lower().split()\n",
    "    #create an array of stopwords so that we don't have to access corpus to search for a stopword\n",
    "    stop = set(stopwords.words(\"english\"))\n",
    "    #removing stopwords from the raw_review\n",
    "    meaningful_words = [w for w in words if w not in stop]\n",
    "    #return a string with only the words that are important\n",
    "    return(\" \".join(meaningful_words))"
   ]
  },
  {
   "cell_type": "code",
   "execution_count": 14,
   "metadata": {},
   "outputs": [
    {
     "name": "stdout",
     "output_type": "stream",
     "text": [
      "stuff going moment mj started listening music watching odd documentary watched wiz watched moonwalker maybe want get certain insight guy thought really cool eighties maybe make mind whether guilty innocent moonwalker part biography part feature film remember going see cinema originally released subtle messages mj feeling towards press also obvious message drugs bad kay visually impressive course michael jackson unless remotely like mj anyway going hate find boring may call mj egotist consenting making movie mj fans would say made fans true really nice actual feature film bit finally starts minutes excluding smooth criminal sequence joe pesci convincing psychopathic powerful drug lord wants mj dead bad beyond mj overheard plans nah joe pesci character ranted wanted people know supplying drugs etc dunno maybe hates mj music lots cool things like mj turning car robot whole speed demon sequence also director must patience saint came filming kiddy bad sequence usually directors hate working one kid let alone whole bunch performing complex dance scene bottom line movie people like mj one level another think people stay away try give wholesome message ironically mj bestest buddy movie girl michael jackson truly one talented people ever grace planet guilty well attention gave subject hmmm well know people different behind closed doors know fact either extremely nice stupid guy one sickest liars hope latter\n"
     ]
    }
   ],
   "source": [
    "#checking if our function works properly\n",
    "check_review = review_to_words(train.review[0])\n",
    "print(check_review)"
   ]
  },
  {
   "cell_type": "code",
   "execution_count": 15,
   "metadata": {},
   "outputs": [
    {
     "name": "stdout",
     "output_type": "stream",
     "text": [
      "number of reviews : 25000\n"
     ]
    }
   ],
   "source": [
    "#finding the number of reviews\n",
    "num_reviews = train.review.size\n",
    "print(\"number of reviews :\",num_reviews)"
   ]
  },
  {
   "cell_type": "code",
   "execution_count": 16,
   "metadata": {},
   "outputs": [
    {
     "name": "stdout",
     "output_type": "stream",
     "text": [
      "cleaning in process . . . . . . \n",
      "cleaned  0 reviews till now\n",
      "cleaning in process . . . . . . \n",
      "cleaned  5000 reviews till now\n",
      "cleaning in process . . . . . . \n",
      "cleaned  10000 reviews till now\n",
      "cleaning in process . . . . . . \n",
      "cleaned  15000 reviews till now\n",
      "cleaning in process . . . . . . \n",
      "cleaned  20000 reviews till now\n",
      "cleaning complete\n"
     ]
    }
   ],
   "source": [
    "#storing all reviews at one place\n",
    "clean_train_reviews = []\n",
    "for i in range(num_reviews):\n",
    "    clean_train_reviews.append(review_to_words(train.review[i]))\n",
    "    if(i%5000==0):\n",
    "        print(\"cleaning in process . . . . . . \")\n",
    "        #included an extra line to visualize if our code is working properly or not\n",
    "        print(\"cleaned \",i,\"reviews till now\")\n",
    "print(\"cleaning complete\")"
   ]
  },
  {
   "cell_type": "code",
   "execution_count": 17,
   "metadata": {},
   "outputs": [
    {
     "name": "stdout",
     "output_type": "stream",
     "text": [
      "Creating a bag of words . . . . . \n"
     ]
    }
   ],
   "source": [
    "print(\"Creating a bag of words . . . . . \")\n",
    "#import CountVectorizer to create token counts of document\n",
    "from sklearn.feature_extraction.text import CountVectorizer\n",
    "#initializing the parameters as None so that we can write and manipulate the processing by our own\n",
    "vectorizer = CountVectorizer(analyzer=\"word\",\n",
    "                            tokenizer=None,\n",
    "                            preprocessor=None,\n",
    "                            stop_words=None,\n",
    "                            max_features=5000)\n",
    "#train the classifer using fit_transform() method\n",
    "train_data_features = vectorizer.fit_transform(clean_train_reviews)\n",
    "#change the classifier into array\n",
    "train_data_features = train_data_features.toarray()"
   ]
  },
  {
   "cell_type": "code",
   "execution_count": 18,
   "metadata": {},
   "outputs": [
    {
     "name": "stdout",
     "output_type": "stream",
     "text": [
      "(25000, 5000)\n"
     ]
    }
   ],
   "source": [
    "print(train_data_features.shape)"
   ]
  },
  {
   "cell_type": "code",
   "execution_count": 19,
   "metadata": {},
   "outputs": [
    {
     "name": "stdout",
     "output_type": "stream",
     "text": [
      "abandoned , abc , abilities , ability , able , abraham , absence , absent , absolute , absolutely  . . . .  yet , york , young , younger , youth , zero , zizek , zombie , zombies , zone\n"
     ]
    }
   ],
   "source": [
    "#see all the features names\n",
    "vocab = vectorizer.get_feature_names()\n",
    "print(\" , \".join(vocab[0:10]),\" . . . . \",\" , \".join(vocab[-10:]))"
   ]
  },
  {
   "cell_type": "code",
   "execution_count": 20,
   "metadata": {},
   "outputs": [
    {
     "name": "stdout",
     "output_type": "stream",
     "text": [
      "abandoned : 187 abc : 125 abilities : 108 ability : 454 able : 1259 abraham : 85 absence : 116 absent : 83 absolute : 352 absolutely : 1485 absurd : 306 abuse : 192 abusive : 91 abysmal : 98 academy : 297 accent : 485 accents : 203 accept : 300 acceptable : 130 accepted : 144 access : 92 accident : 318 accidentally : 200 accompanied : 88 accomplished : 124 according : 296 account : 186 accuracy : 81 accurate : 284 accused : 123 achieve : 179 achieved : 139 achievement : 124 acid : 90 across : 971 act : 1251 acted : 658 acting : 6490 action : 3354 actions : 311 activities : 83 actor : 2389 actors : 4486 actress : 1219 actresses : 369 acts : 394 actual : 793 actually : 4237 ad : 148 adam : 302 adams : 98 adaptation : 453 adaptations : 80 adapted : 154 add : 810 added : 439 adding : 166 addition : 347 adds : 337 adequate : 113 admire : 124 admit : 621 admittedly : 134 adorable : 101 adult : 510 adults : 376 advance : 100 advanced : 90 advantage : 153 adventure : 510 adventures : 204 advertising : 91 advice : 259 advise : 90 affair : 346 affect : 93 affected : 113 afford : 104 aforementioned : 126 afraid : 343 africa : 212 african : 255 afternoon : 187 afterwards : 128 age : 1121 aged : 233 agent : 361 agents : 94 ages : 249 aging : 111 ago : 1033 agree : 572 agreed : 88 agrees : 96 ah : 119 ahead : 396 aid : 106 aids : 96 aim : 81 aimed : 120 air : 639 aired : 146 airplane : 92 airport : 93 aka : 194 akshay : 100 al : 376 alan : 351 alas : 163 albeit : 157 albert : 265 album : 84 alcohol : 84 alcoholic : 93 alec : 81 alert : 94 alex : 231 alexander : 121 alfred : 85 alice : 199 alicia : 79 alien : 373 aliens : 199 alike : 152 alison : 86 alive : 463 allen : 407 allow : 308 allowed : 325 allowing : 128 allows : 252 almost : 3139 alone : 1061 along : 1776 alongside : 90 already : 1381 alright : 185 also : 9156 alternate : 88 alternative : 78 although : 2537 altman : 114 altogether : 112 always : 3239 amanda : 101 amateur : 215 amateurish : 216 amazed : 183 amazing : 1320 amazingly : 174 ambiguous : 80 ambitious : 126 america : 728 american : 2228 americans : 365 amitabh : 92 among : 783 amongst : 160 amount : 495 amounts : 90 amused : 78 amusing : 509 amy : 104 analysis : 88 ancient : 233 anderson : 223 andre : 79 andrew : 147 andrews : 151 andy : 318 angel : 230 angela : 85 angeles : 101 angels : 161 anger : 191 angle : 185 angles : 206 angry : 336 animal : 342 animals : 410 animated : 516 animation : 826 anime : 240 ann : 288 anna : 251 anne : 254 annie : 117 annoyed : 143 annoying : 998 another : 4325 answer : 361 answers : 176 anthony : 263 anti : 480 antics : 113 antonioni : 82 antwone : 88 anybody : 310 anymore : 333 anyone : 2630 anything : 2949 anyway : 1117 anyways : 113 anywhere : 304 apart : 623 apartment : 339 ape : 105 apes : 113 appalling : 125 apparent : 309 apparently : 917 appeal : 448 appealing : 225 appear : 619 appearance : 451 appearances : 139 appeared : 371 appearing : 141 appears : 841 appreciate : 507 appreciated : 196 appreciation : 88 approach : 372 appropriate : 221 april : 101 area : 337 areas : 116 arguably : 90 argue : 111 argument : 118 arm : 152 armed : 95 arms : 175 army : 454 arnold : 148 around : 3616 arrested : 126 arrival : 87 arrive : 114 arrived : 93 arrives : 162 arrogant : 99 art : 1293 arthur : 373 artificial : 94 artist : 331 artistic : 339 artists : 182 arts : 310 ashamed : 158 ashley : 89 asian : 237 aside : 473 ask : 648 asked : 295 asking : 228 asks : 329 asleep : 213 aspect : 454 aspects : 398 ass : 267 assassin : 85 assault : 88 assigned : 83 assistant : 148 associated : 131 assume : 229 assumed : 82 astaire : 132 astonishing : 79 atlantis : 111 atmosphere : 735 atmospheric : 148 atrocious : 197 attached : 132 attack : 449 attacked : 158 attacks : 158 attempt : 1050 attempted : 136 attempting : 163 attempts : 583 attend : 83 attention : 906 attitude : 237 attitudes : 90 attorney : 89 attracted : 123 attraction : 143 attractive : 352 audience : 2199 audiences : 476 audio : 113 aunt : 173 austen : 91 austin : 82 australia : 126 australian : 206 authentic : 166 author : 275 authority : 101 available : 388 average : 720 avoid : 775 avoided : 102 awake : 106 award : 419 awards : 245 aware : 277 away : 2775 awe : 101 awesome : 485 awful : 1724 awfully : 84 awhile : 78 awkward : 248 babe : 100 baby : 693 bacall : 90 back : 4972 backdrop : 105 background : 619 backgrounds : 101 bad : 9301 badly : 662 bag : 150 baker : 155 bakshi : 130 balance : 161 baldwin : 80 ball : 290 ballet : 94 balls : 93 band : 529 bands : 93 bang : 108 bank : 265 banned : 108 bar : 387 barbara : 243 bare : 114 barely : 483 bargain : 86 barry : 134 barrymore : 88 base : 173 baseball : 215 based : 1430 basement : 143 basic : 519 basically : 906 basis : 169 basketball : 88 bat : 168 bath : 93 bathroom : 114 batman : 432 battle : 614 battles : 136 bay : 89 bbc : 189 beach : 191 bear : 251 bears : 140 beast : 187 beat : 354 beaten : 124 beating : 138 beats : 111 beatty : 113 beautiful : 2177 beautifully : 436 beauty : 655 became : 697 become : 1544 becomes : 1380 becoming : 348 bed : 384 bedroom : 107 beer : 123 began : 318 begin : 678 beginning : 1401 begins : 795 behave : 94 behavior : 261 behind : 1280 beings : 128 bela : 94 belief : 188 beliefs : 92 believable : 711 believe : 2505 believed : 208 believes : 228 believing : 137 bell : 112 belong : 85 belongs : 142 beloved : 178 belushi : 87 ben : 616 beneath : 104 benefit : 102 bergman : 96 berlin : 99 besides : 410 best : 6416 bet : 244 bette : 155 better : 5737 bettie : 163 betty : 89 beyond : 866 bible : 134 big : 3477 bigger : 268 biggest : 515 biko : 89 bill : 633 billed : 79 billy : 375 bin : 110 biography : 82 bird : 113 birds : 116 birth : 196 birthday : 137 bit : 3054 bite : 114 bits : 295 bitter : 164 bizarre : 499 black : 2033 blade : 95 blah : 195 blair : 167 blake : 110 blame : 290 bland : 273 blank : 122 blast : 79 blatant : 104 bleak : 119 blend : 113 blew : 101 blind : 262 blob : 122 block : 113 blockbuster : 187 blond : 97 blonde : 270 blood : 1185 bloody : 302 blow : 202 blowing : 108 blown : 184 blows : 122 blue : 431 blues : 100 blunt : 94 bo : 156 board : 250 boat : 254 bob : 266 bobby : 138 bodies : 217 body : 972 bold : 102 boll : 143 bollywood : 169 bomb : 235 bond : 340 bone : 114 bonus : 97 book : 2421 books : 505 boom : 93 boot : 95 border : 124 bore : 181 bored : 530 boredom : 141 boring : 1809 born : 385 borrowed : 84 boss : 415 bother : 395 bothered : 187 bottle : 91 bottom : 421 bought : 458 bound : 179 bourne : 190 box : 637 boxing : 126 boy : 1560 boyfriend : 399 boyle : 79 boys : 618 brad : 175 brady : 109 brain : 474 brains : 109 branagh : 186 brand : 135 brando : 158 brave : 202 brazil : 116 break : 611 breaking : 231 breaks : 259 breasts : 128 breath : 177 breathtaking : 168 brenda : 84 brian : 352 bride : 136 bridge : 157 brief : 395 briefly : 135 bright : 273 brilliance : 129 brilliant : 1195 brilliantly : 248 bring : 869 bringing : 216 brings : 630 britain : 149 british : 898 broad : 115 broadcast : 114 broadway : 242 broke : 151 broken : 278 brooklyn : 105 brooks : 169 brosnan : 128 brother : 1107 brothers : 557 brought : 737 brown : 271 bruce : 393 brutal : 303 brutality : 81 brutally : 90 buck : 175 bucks : 124 bud : 83 buddies : 109 buddy : 258 budget : 1836 buff : 102 buffalo : 82 buffs : 98 bug : 119 bugs : 152 build : 318 building : 395 buildings : 94 builds : 114 built : 236 bull : 102 bullet : 109 bullets : 124 bumbling : 85 bunch : 813 bunny : 78 buried : 126 burn : 127 burned : 114 burning : 144 burns : 183 burt : 167 burton : 152 bus : 186 bush : 136 business : 624 businessman : 83 buster : 81 busy : 162 butler : 86 butt : 123 button : 96 buy : 763 buying : 184 cabin : 175 cable : 279 cage : 296 cagney : 124 caine : 204 cake : 98 caliber : 84 california : 189 call : 923 called : 1433 calling : 176 calls : 260 calm : 86 came : 1673 cameo : 259 cameos : 146 camera : 1778 cameras : 110 cameron : 123 camp : 463 campbell : 97 campy : 179 canada : 139 canadian : 226 candy : 289 cannibal : 84 cannot : 1096 cant : 202 capable : 228 capital : 89 captain : 326 captivating : 119 capture : 287 captured : 261 captures : 216 capturing : 88 car : 1225 card : 150 cardboard : 131 cards : 99 care : 1385 cared : 121 career : 1007 careers : 107 careful : 90 carefully : 134 carell : 88 cares : 228 caring : 166 carl : 109 carla : 85 carol : 138 carpenter : 161 carradine : 94 carrey : 131 carrie : 117 carried : 163 carries : 163 carry : 326 carrying : 165 cars : 279 carter : 151 cartoon : 545 cartoons : 205 cary : 108 case : 1533 cases : 163 cash : 236 cassidy : 85 cast : 3829 casting : 622 castle : 339 cat : 547 catch : 447 catches : 106 catching : 92 catchy : 91 category : 211 catherine : 142 catholic : 152 cats : 110 caught : 555 cause : 534 caused : 237 causes : 166 causing : 107 cave : 98 cd : 97 celebrity : 102 cell : 176 celluloid : 107 center : 232 centered : 109 centers : 91 central : 411 century : 528 certain : 764 certainly : 1462 cg : 96 cgi : 325 chain : 122 chair : 157 challenge : 165 challenging : 88 championship : 81 chan : 207 chance : 1067 chances : 133 change : 959 changed : 484 changes : 386 changing : 194 channel : 442 channels : 86 chaos : 105 chaplin : 150 chapter : 88 character : 7023 characterization : 123 characters : 7154 charge : 168 charisma : 138 charismatic : 135 charles : 408 charlie : 439 charlotte : 98 charm : 407 charming : 471 chase : 438 chased : 98 chases : 143 chasing : 145 che : 217 cheap : 892 cheated : 92 cheating : 103 check : 762 checked : 80 checking : 139 cheek : 114 cheese : 158 cheesy : 634 chemistry : 490 chess : 96 chest : 93 chicago : 92 chick : 233 chicken : 80 chicks : 89 chief : 229 child : 1320 childhood : 356 childish : 117 children : 1510 chilling : 169 china : 188 chinese : 337 choice : 528 choices : 171 choose : 227 chooses : 85 choreographed : 99 choreography : 115 chorus : 99 chose : 202 chosen : 232 chris"
     ]
    },
    {
     "name": "stdout",
     "output_type": "stream",
     "text": [
      " : 421 christ : 183 christian : 373 christianity : 79 christians : 92 christmas : 623 christopher : 415 christy : 97 chuck : 142 church : 406 cia : 123 cinderella : 233 cinema : 1491 cinematic : 412 cinematographer : 101 cinematography : 983 circle : 103 circumstances : 218 cities : 88 citizen : 125 city : 1195 civil : 140 civilization : 93 claim : 222 claimed : 100 claims : 205 claire : 173 clark : 204 class : 893 classes : 106 classic : 1828 classical : 88 classics : 233 claus : 80 clean : 243 clear : 786 clearly : 899 clever : 533 cleverly : 94 clich : 840 cliche : 96 cliff : 112 climactic : 93 climax : 422 clint : 110 clip : 83 clips : 162 clock : 96 close : 1296 closed : 92 closely : 140 closer : 206 closest : 94 closet : 103 closing : 177 clothes : 328 clothing : 110 clown : 107 club : 434 clue : 224 clues : 123 clumsy : 105 co : 604 coach : 102 coast : 80 code : 241 coffee : 106 coherent : 109 cold : 571 cole : 132 collection : 343 college : 496 colonel : 106 color : 402 colorful : 144 colors : 199 colour : 138 columbo : 206 com : 218 combat : 109 combination : 231 combine : 94 combined : 198 come : 3189 comedian : 159 comedic : 315 comedies : 439 comedy : 3244 comes : 2484 comfort : 80 comfortable : 110 comic : 901 comical : 171 comics : 133 coming : 1062 command : 99 comment : 653 commentary : 318 commented : 100 comments : 779 commercial : 239 commercials : 116 commit : 127 committed : 195 common : 509 communist : 103 community : 290 companies : 80 companion : 104 company : 515 compare : 325 compared : 538 comparing : 96 comparison : 251 compassion : 81 compelled : 87 compelling : 385 competent : 140 competition : 127 complain : 115 complaint : 139 complete : 1035 completely : 1889 complex : 427 complexity : 90 complicated : 178 composed : 111 composer : 82 computer : 468 con : 180 conceived : 120 concept : 520 concern : 97 concerned : 269 concerning : 115 concerns : 140 concert : 143 conclusion : 490 condition : 143 conditions : 80 confess : 81 confidence : 95 conflict : 273 conflicts : 93 confrontation : 79 confused : 377 confusing : 368 confusion : 163 connect : 117 connected : 147 connection : 258 connery : 94 conscious : 79 consequences : 123 conservative : 95 consider : 513 considerable : 97 considered : 483 considering : 545 consistent : 96 consistently : 104 consists : 144 conspiracy : 126 constant : 291 constantly : 416 constructed : 95 construction : 91 contact : 151 contain : 156 contained : 113 contains : 411 contemporary : 211 content : 366 contest : 83 context : 260 continue : 307 continued : 128 continues : 261 continuity : 212 contract : 130 contrary : 116 contrast : 224 contrived : 227 control : 510 controversial : 152 conventional : 109 conversation : 188 conversations : 110 convey : 171 convince : 197 convinced : 216 convincing : 538 convincingly : 93 convoluted : 121 cook : 159 cool : 971 cooper : 166 cop : 620 copies : 90 cops : 301 copy : 575 core : 259 corner : 153 corny : 258 corporate : 96 corpse : 127 correct : 223 correctly : 82 corrupt : 133 corruption : 100 cost : 220 costs : 233 costume : 223 costumes : 418 could : 7922 count : 352 counter : 87 countless : 136 countries : 151 country : 935 countryside : 103 couple : 1719 couples : 93 courage : 148 course : 2506 court : 193 cousin : 147 cover : 526 covered : 212 covers : 135 cowboy : 212 cox : 132 crack : 106 cracking : 79 craft : 113 crafted : 167 craig : 122 crap : 1039 crappy : 242 crash : 201 craven : 118 crawford : 82 crazed : 79 crazy : 657 cream : 78 create : 612 created : 542 creates : 245 creating : 284 creation : 129 creative : 362 creativity : 85 creator : 92 creators : 127 creature : 340 creatures : 214 credibility : 153 credible : 153 credit : 530 credits : 674 creep : 91 creepy : 638 crew : 570 cried : 117 crime : 757 crimes : 139 criminal : 325 criminals : 174 cringe : 107 crisis : 152 critic : 124 critical : 175 criticism : 173 critics : 398 crocodile : 94 cross : 325 crowd : 226 crucial : 86 crude : 187 cruel : 181 cruise : 128 crush : 102 cry : 399 crying : 191 crystal : 83 cuba : 109 cube : 147 cult : 483 cultural : 184 culture : 495 cup : 124 cure : 101 curiosity : 124 curious : 262 current : 257 currently : 113 curse : 147 curtis : 142 cusack : 137 cut : 1035 cute : 581 cuts : 274 cutting : 211 cynical : 154 da : 80 dad : 491 daddy : 107 daily : 163 dalton : 97 damage : 108 damme : 84 damn : 356 damon : 89 dan : 264 dana : 83 dance : 744 dancer : 149 dancers : 116 dances : 103 dancing : 529 danes : 116 danger : 215 dangerous : 291 daniel : 237 danny : 330 dare : 138 daring : 114 dark : 1380 darker : 117 darkness : 193 darren : 83 date : 436 dated : 267 dating : 107 daughter : 1138 daughters : 174 dave : 117 david : 1024 davies : 129 davis : 354 dawn : 136 dawson : 130 day : 2746 days : 1268 de : 730 dead : 1881 deadly : 201 deaf : 82 deal : 717 dealing : 267 deals : 258 dealt : 137 dean : 188 dear : 146 death : 1908 deaths : 205 debut : 260 decade : 255 decades : 177 deceased : 82 decent : 1157 decide : 482 decided : 705 decides : 546 decision : 240 decisions : 105 dedicated : 99 dee : 82 deep : 653 deeper : 177 deeply : 320 defeat : 107 defend : 95 defense : 86 defined : 87 definite : 117 definitely : 1580 definition : 83 degree : 204 del : 97 deliberately : 108 delight : 157 delightful : 274 deliver : 328 delivered : 243 delivering : 94 delivers : 356 delivery : 184 demand : 90 demands : 113 demented : 89 demise : 79 demon : 183 demons : 192 deniro : 82 dennis : 176 dentist : 152 denzel : 141 department : 194 depicted : 210 depicting : 82 depiction : 172 depicts : 90 depressed : 99 depressing : 226 depression : 129 depth : 511 der : 86 derek : 151 descent : 89 describe : 330 described : 233 describes : 102 description : 175 desert : 250 deserve : 287 deserved : 291 deserves : 591 design : 342 designed : 206 designs : 91 desire : 304 desired : 91 despair : 86 desperate : 323 desperately : 179 desperation : 104 despite : 1364 destiny : 104 destroy : 219 destroyed : 178 destroying : 94 destruction : 142 detail : 345 detailed : 108 details : 410 detective : 460 determined : 164 develop : 252 developed : 404 developing : 102 development : 641 develops : 144 device : 181 devil : 314 devoid : 104 devoted : 109 dialog : 769 dialogs : 142 dialogue : 1542 dialogues : 110 diamond : 125 diana : 101 diane : 103 dick : 295 dickens : 94 die : 794 died : 512 dies : 386 difference : 376 differences : 115 different : 2385 difficult : 695 dig : 142 digital : 126 dignity : 118 dimension : 83 dimensional : 255 din : 82 dinner : 154 dinosaur : 99 dinosaurs : 111 dire : 122 direct : 366 directed : 1204 directing : 644 direction : 1373 directions : 80 directly : 193 director : 4444 directorial : 121 directors : 675 directs : 103 dirty : 334 disagree : 131 disappear : 101 disappeared : 99 disappoint : 98 disappointed : 917 disappointing : 420 disappointment : 404 disaster : 320 disbelief : 175 disc : 119 discover : 266 discovered : 267 discovers : 240 discovery : 116 discuss : 106 discussion : 118 disease : 128 disgusting : 221 disjointed : 102 dislike : 150 disliked : 79 disney : 754 display : 205 displayed : 99 displays : 114 distance : 118 distant : 124 distinct : 84 distracting : 107 distribution : 82 disturbed : 107 disturbing : 484 divorce : 102 dixon : 94 doc : 137 doctor : 625 documentaries : 121 documentary : 953 dog : 688 dogs : 199 doll : 104 dollar : 169 dollars : 200 dolls : 96 dolph : 85 domestic : 86 domino : 98 donald : 191 done : 3096 donna : 115 doo : 123 doom : 90 doomed : 104 door : 432 doors : 125 dorothy : 142 double : 399 doubt : 757 doubts : 82 douglas : 315 downey : 79 downhill : 96 downright : 188 dozen : 196 dozens : 103 dr : 702 dracula : 121 drag : 211 dragged : 138 dragon : 186 drags : 130 drake : 89 drama : 1411 dramas : 141 dramatic : 667 draw : 198 drawing : 114 drawn : 428 draws : 118 dreadful : 240 dream : 663 dreams : 436 dreary : 87 dreck : 81 dress : 181 dressed : 293 dressing : 86 drew : 245 drink : 148 drinking : 175 drive : 448 drivel : 125 driven : 239 driver : 195 drives : 155 driving : 269 drop : 205 dropped : 131 dropping : 85 drops : 102 drug : 403 drugs : 325 drunk : 292 drunken : 119 dry : 230 dub : 96 dubbed : 224 dubbing : 153 dud : 83 dude : 183 due : 909 duke : 132 dull : 816 dumb : 609 duo : 121 dust : 91 dutch : 104 duty : 106 dvd : 2345 dying : 314 dynamic : 112 eager : 94 ear : 86 earl : 87 earlier : 662 early : 1605 earned : 100 ears : 99 earth : 928 ease : 110 easier : 132 easily : 892 east : 170 eastern : 83 eastwood : 138 easy : 802 eat : 275 eaten : 90 eating : 278 eccentric : 109 ed : 341 eddie : 310 edgar : 95 edge : 441 edgy : 82 edie : 107 edited : 262 editing : 774 edition : 89 editor : 119 education : 97 educational : 83 edward : 204 eerie : 141 effect : 633 effective : 512 effectively : 187 effects : 2204 effort : 792 efforts : 254 ego : 128 eight : 221 eighties : 101 either : 1866 elaborate : 118 elderly : 119 elegant : 93 element : 392 elements : 783 elephant : 99 elizabeth : 175 ellen : 122 elm : 84 else : 1998 elsewhere : 139 elvira : 153 elvis : 154 em : 158 embarrassed : 163 embarrassing : 226 embarrassment : 96 emily : 122 emma : 202 emotion : 396 emotional : 657 emotionally : 241 emotions : 389 empathy : 84 emperor : 97 emphasis : 101 empire : 124 empty : 274 en : 90 encounter : 175 encounters : 140 end : 5648 endearing : 139 ended : 556 ending : 2358 endings : 104 endless : 235 ends : 984 endure : 99 enemies : 104 enemy : 203 energy : 317 engage : 93 engaged : 110 engaging : 312 england : 305 english : 986 enjoy : 1812 enjoyable : 842 enjoyed : 1245 enjoying : 162 enjoyment : 150 enjoys : 112 enormous : 103 enough : 3452 ensemble : 149 ensues : 88 enter : 196 enterprise : 104 enters : 131 entertain : 172 entertained : 237 entertaining : 1442 entertainment : 878 enthusiasm : 86 entire : 1460 entirely : 532 entry : 145 environment : 175 epic : 318 episode : 1659 episodes : 938 equal : 143 equally : 432 equipment : 84 equivalent : 87 er : 79 era : 614 eric : 265 erotic : 201 errors : 108 escape : 538 escaped : 110 escapes : 163 especially : 2535 essence : 138 essential : 162 essentially : 257 established : 164 estate : 128 et : 103 etc : 1212 ethan : 92 eugene : 83 europe : 216 european : 284 eva : 140 eve : 117 even : 12646 evening : 246 event : 373 events : 910 eventually : 720 ever : 5995 every : 3978 everybody : 411 everyday : 167 everyone : 2222 everything : 2321 everywhere : 190 evidence : 223 evident : 127 evil : 1448 ex : 468 exact : 189 exactly : 995 exaggerated : 120 examination : 79 example : 1373 examples : 181 excellent : 2070 except : 1129 exception : 401 exceptional : 148 exceptionally : 86 excessive : 87 exchange : 80 excited : 230 excitement : 221 exciting : 515 excuse : 419 executed : 241 execution : 189 executive : 132 exercise : 130 exist : 300 existed : 114 existence : 259 existent : 161 exists : 161 exotic : 104 expect : 1176 expectations : 404 expected : 704 expecting : 588 expedition : 81 expensive : 140 experience : 1059 experienced : 192 experiences : 200 experiment : 170 experimental : 79 experiments : 90 expert : 176 explain : 451 explained : 285 explaining : 107 explains : 193 explanation : 290 explicit : 119 exploitation : 233 exploration : 92 explore : 118 explored : 106 explosion : 112 explosions : 109 exposed : 117 exposure : 82 express : 189 expressed : 83 expression : 169 expressions : 155 extended : 115 extent : 171 extra : 315 extraordinary : 173 extras : 228 extreme : 350 extremely : 1069 eye : 849 eyed : 133 eyes : 1216 eyre : 115 fabulous : 178 face : 1645 faced : 204 faces : 345 facial : 177 facing : 96 fact : 3523 factor : 218 factory : 142 facts : 224 fail : 285 failed : 483 failing : 119 fails : 606 failure : 247 fair : 455 fairly : 587 fairy : 214 faith : 297 faithful : 178 fake : 473 falk : 122 fall : 770 fallen : 165 falling : 383 falls : 851 false : 193 fame : 230 familiar : 538 families : 239 family : 3200 famous : 771 fan : 1911 fancy : 119 fans : 1421 fantastic : 798 fantasy : 649 far : 2978 farce : 122 fare : 210 farm : 115 farrell : 89 fascinated : 88 fascinating : 391 fashion : 341 fashioned : 138 fast : 897 faster : 100 fat : 275 fatal : 124 fate : 271 father : 2123 fault : 240 faults : 97 favor : 250 favorite : 1232 favorites : 187 favourite : 329 fay : 121 fbi : 153 fear : 538 fears : 126 feature : 791 featured : 192 features : 643 featuring : 277 fed : 82 feed : 87 feel : 2950 feeling : 1145 feelings : 395 feels : 810 feet : 236 felix : 121 fell : 346 fellow : 372 felt : 1528 female : 944 feminist : 84 femme : 80 fest : 137 festival : 399 fetched : 103 fever : 116 fi : 661 fianc : 133 fiction : 476 fictional : 188 fido : 84 field : 290 fields : 79 fifteen : 127 fight : 1148 fighter "
     ]
    },
    {
     "name": "stdout",
     "output_type": "stream",
     "text": [
      ": 111 fighting : 607 fights : 285 figure : 758 figured : 187 figures : 191 files : 80 fill : 231 filled : 551 film : 40147 filmed : 763 filming : 393 filmmaker : 334 filmmakers : 566 films : 6887 final : 1329 finale : 267 finally : 1536 financial : 105 find : 4131 finding : 358 finds : 948 fine : 1324 finest : 278 finger : 97 finish : 410 finished : 302 fire : 632 fired : 133 firm : 81 first : 9061 firstly : 90 fish : 157 fisher : 129 fishing : 78 fit : 489 fits : 215 fitting : 137 five : 933 fix : 100 flair : 78 flash : 149 flashback : 176 flashbacks : 240 flat : 577 flaw : 140 flawed : 156 flawless : 125 flaws : 362 flesh : 247 flick : 1258 flicks : 357 flies : 105 flight : 177 floating : 89 floor : 281 flop : 108 florida : 107 flow : 161 fly : 232 flying : 357 flynn : 147 focus : 509 focused : 203 focuses : 182 focusing : 106 folk : 116 folks : 346 follow : 785 followed : 373 following : 564 follows : 499 fond : 102 fonda : 111 food : 333 fool : 219 fooled : 95 foot : 259 footage : 651 football : 221 forbidden : 120 force : 514 forced : 660 forces : 272 ford : 304 foreign : 237 forest : 191 forever : 392 forget : 716 forgettable : 205 forgive : 131 forgot : 178 forgotten : 353 form : 765 format : 179 former : 509 forms : 100 formula : 252 formulaic : 98 forth : 190 fortunately : 159 fortune : 144 forty : 103 forward : 651 foster : 185 fought : 81 foul : 111 found : 2572 four : 912 fourth : 176 fox : 336 frame : 246 france : 234 franchise : 154 francis : 91 francisco : 123 franco : 98 frank : 457 frankenstein : 92 frankie : 90 frankly : 256 freak : 117 fred : 303 freddy : 287 free : 697 freedom : 242 freeman : 188 french : 789 frequent : 87 frequently : 157 fresh : 376 friday : 198 friend : 1442 friendly : 193 friends : 1788 friendship : 283 frightening : 195 front : 595 frustrated : 125 frustrating : 79 frustration : 103 fu : 284 fulci : 114 full : 1779 fuller : 83 fully : 426 fun : 2694 funeral : 106 funnier : 173 funniest : 358 funny : 4288 furious : 83 furthermore : 106 fury : 83 future : 900 futuristic : 120 fx : 121 gabriel : 90 gadget : 110 gag : 140 gags : 262 gain : 143 game : 1281 games : 340 gandhi : 121 gang : 421 gangster : 259 gangsters : 94 garbage : 459 garbo : 103 garden : 109 gary : 272 gas : 195 gave : 1216 gay : 609 gem : 361 gender : 90 gene : 277 general : 765 generally : 468 generated : 85 generation : 235 generations : 80 generic : 105 generous : 124 genius : 452 genre : 1254 genres : 113 gentle : 116 gentleman : 84 genuine : 256 genuinely : 251 george : 862 gerard : 91 german : 516 germans : 91 germany : 227 get : 9310 gets : 3204 getting : 1627 ghost : 484 ghosts : 181 giallo : 118 giant : 379 gift : 131 gifted : 84 ginger : 107 girl : 2853 girlfriend : 636 girls : 1211 give : 3376 given : 1846 gives : 1576 giving : 839 glad : 450 glass : 157 glasses : 80 glenn : 118 glimpse : 149 global : 94 glorious : 104 glory : 147 glover : 142 go : 5157 goal : 137 god : 1207 godfather : 134 godzilla : 105 goes : 2441 going : 4101 gold : 295 goldberg : 123 golden : 259 gone : 754 gonna : 241 good : 15140 goodness : 106 goofy : 161 gordon : 245 gore : 1038 gorgeous : 368 gory : 234 got : 3583 gothic : 136 gotta : 129 gotten : 286 government : 424 grab : 109 grabs : 80 grace : 328 grade : 462 gradually : 118 graham : 86 grand : 307 grandfather : 98 grandmother : 127 grant : 262 granted : 201 graphic : 239 graphics : 169 grasp : 97 gratuitous : 237 grave : 189 gray : 121 grayson : 89 great : 9058 greater : 174 greatest : 745 greatly : 154 greatness : 82 greed : 86 greedy : 91 greek : 113 green : 404 greg : 83 gregory : 79 grew : 250 grey : 158 grief : 79 griffith : 102 grim : 188 grinch : 103 gripping : 150 gritty : 196 gross : 180 ground : 353 group : 1034 groups : 108 grow : 224 growing : 297 grown : 252 grows : 134 gruesome : 163 guarantee : 91 guard : 165 guess : 1310 guessed : 99 guessing : 151 guest : 133 guide : 125 guilt : 142 guilty : 198 gun : 563 gundam : 94 guns : 283 guts : 143 guy : 3035 guys : 1304 ha : 184 hair : 505 hal : 105 half : 2094 halfway : 173 hall : 221 halloween : 244 ham : 84 hamilton : 113 hamlet : 145 hammer : 111 hand : 1257 handed : 181 handful : 127 handle : 167 handled : 209 hands : 632 handsome : 228 hang : 143 hanging : 215 hank : 105 hanks : 140 happen : 1043 happened : 1076 happening : 383 happens : 1080 happily : 152 happiness : 186 happy : 965 hard : 2668 hardcore : 102 harder : 112 hardly : 613 hardy : 177 harm : 81 harris : 256 harry : 461 harsh : 200 hart : 106 hartley : 101 harvey : 107 hat : 212 hate : 789 hated : 296 hates : 104 hatred : 121 haunted : 217 haunting : 229 hawke : 79 hbo : 108 head : 1541 headed : 169 heads : 291 health : 137 hear : 733 heard : 1111 hearing : 231 heart : 1328 hearted : 225 hearts : 135 heat : 128 heaven : 320 heavily : 180 heavy : 492 heck : 222 heights : 85 held : 391 helen : 152 helicopter : 97 hell : 1025 hello : 90 help : 1895 helped : 324 helping : 176 helps : 360 hence : 155 henry : 407 hero : 1056 heroes : 318 heroic : 115 heroine : 291 heston : 136 hey : 409 hidden : 342 hide : 210 hideous : 103 hiding : 144 high : 2161 higher : 289 highest : 106 highlight : 202 highlights : 125 highly : 1147 hilarious : 973 hilariously : 86 hill : 243 hills : 152 hint : 147 hints : 103 hip : 181 hippie : 84 hire : 130 hired : 188 historical : 407 historically : 86 history : 1332 hit : 1088 hitchcock : 209 hitler : 305 hits : 272 hitting : 137 ho : 126 hoffman : 188 hold : 545 holding : 209 holds : 300 hole : 167 holes : 367 holiday : 148 hollow : 113 holly : 107 hollywood : 1907 holmes : 163 holy : 113 homage : 133 home : 1877 homeless : 140 homer : 103 homosexual : 90 honest : 481 honestly : 453 honesty : 99 hong : 191 honor : 173 hood : 162 hook : 99 hooked : 139 hop : 95 hope : 1447 hoped : 144 hopefully : 214 hopeless : 82 hopes : 273 hoping : 407 hopper : 98 horrendous : 134 horrible : 1201 horribly : 214 horrid : 116 horrific : 159 horrifying : 95 horror : 3592 horrors : 124 horse : 298 horses : 145 hospital : 356 host : 146 hot : 688 hotel : 397 hour : 1188 hours : 983 house : 2184 household : 84 houses : 105 howard : 260 however : 3537 hudson : 141 huge : 944 hugh : 111 huh : 138 human : 1596 humanity : 282 humans : 319 humble : 94 humor : 1311 humorous : 263 humour : 441 hundred : 149 hundreds : 151 hung : 98 hunt : 222 hunter : 239 hunters : 90 hunting : 143 hurt : 382 hurts : 99 husband : 1026 husbands : 79 hyde : 96 hype : 134 hysterical : 117 ian : 132 ice : 282 icon : 85 idea : 2043 ideal : 103 ideas : 595 identify : 130 identity : 256 idiot : 185 idiotic : 145 idiots : 118 ignorant : 96 ignore : 177 ignored : 120 ii : 366 iii : 135 ill : 290 illegal : 90 illness : 89 illogical : 98 im : 92 image : 379 imagery : 186 images : 472 imagination : 356 imaginative : 140 imagine : 737 imagined : 116 imdb : 702 imitation : 85 immediate : 80 immediately : 462 immensely : 102 impact : 374 implausible : 108 importance : 134 important : 931 importantly : 127 impossible : 496 impress : 104 impressed : 352 impression : 405 impressive : 500 improve : 97 improved : 115 improvement : 85 inability : 79 inane : 95 inappropriate : 90 incident : 115 include : 375 included : 272 includes : 321 including : 1052 incoherent : 138 incompetent : 87 incomprehensible : 89 increasingly : 131 incredible : 563 incredibly : 626 indeed : 722 independent : 314 india : 179 indian : 405 indians : 122 indie : 181 individual : 237 individuals : 126 inducing : 83 indulgent : 80 industry : 345 inept : 175 inevitable : 131 inevitably : 82 infamous : 148 inferior : 94 influence : 211 influenced : 107 information : 335 ingredients : 107 initial : 209 initially : 178 inner : 210 innocence : 154 innocent : 416 innovative : 110 insane : 241 inside : 600 insight : 187 inspector : 162 inspiration : 169 inspired : 348 inspiring : 135 installment : 121 instance : 289 instant : 104 instantly : 128 instead : 2190 instinct : 86 insult : 213 insulting : 128 integrity : 82 intellectual : 176 intelligence : 327 intelligent : 534 intended : 388 intense : 344 intensity : 158 intent : 117 intention : 132 intentionally : 90 intentions : 161 interaction : 99 interest : 1033 interested : 650 interesting : 3128 interests : 82 international : 266 internet : 155 interpretation : 162 interview : 180 interviews : 158 intimate : 88 intrigue : 109 intrigued : 120 intriguing : 301 introduce : 84 introduced : 313 introduces : 99 introduction : 168 invasion : 91 invented : 80 inventive : 97 investigate : 112 investigation : 128 invisible : 200 involve : 99 involved : 1076 involvement : 114 involves : 224 involving : 465 iran : 93 iraq : 85 ireland : 115 irish : 195 iron : 94 ironic : 162 ironically : 123 irony : 148 irrelevant : 85 irritating : 231 island : 535 isolated : 98 israel : 85 issue : 287 issues : 418 italian : 527 italy : 153 jack : 925 jackie : 232 jackson : 340 jail : 172 jake : 160 james : 1068 jamie : 128 jane : 657 japan : 292 japanese : 714 jason : 330 jaw : 90 jaws : 87 jay : 157 jazz : 109 jealous : 121 jean : 353 jeff : 300 jeffrey : 107 jennifer : 259 jenny : 94 jeremy : 138 jerk : 134 jerry : 380 jesse : 130 jessica : 171 jesus : 289 jet : 128 jewish : 164 jim : 489 jimmy : 274 joan : 302 job : 2274 jobs : 185 joe : 690 joel : 81 joey : 128 john : 2208 johnny : 312 johnson : 191 join : 167 joined : 90 joke : 623 jokes : 977 jon : 187 jonathan : 99 jones : 406 joseph : 232 josh : 83 journalist : 112 journey : 439 joy : 293 jr : 302 judge : 278 judging : 102 judy : 100 julia : 188 julian : 86 julie : 174 jump : 300 jumped : 92 jumping : 125 jumps : 160 june : 90 jungle : 188 junior : 91 junk : 190 justice : 418 justify : 98 justin : 89 juvenile : 110 kane : 135 kansas : 79 kapoor : 114 karen : 115 karloff : 148 kate : 300 kay : 91 keaton : 308 keep : 1601 keeping : 276 keeps : 642 keith : 88 kelly : 429 ken : 123 kennedy : 108 kenneth : 116 kept : 750 kevin : 289 key : 425 khan : 99 kick : 264 kicked : 98 kicking : 92 kicks : 133 kid : 1199 kidding : 109 kidnapped : 128 kids : 1844 kill : 1234 killed : 1111 killer : 1455 killers : 245 killing : 694 killings : 132 kills : 530 kim : 209 kind : 2783 kinda : 275 kinds : 191 king : 999 kingdom : 95 kirk : 114 kiss : 171 kissing : 83 kitchen : 118 knew : 897 knife : 147 knock : 139 know : 6166 knowing : 447 knowledge :"
     ]
    },
    {
     "name": "stdout",
     "output_type": "stream",
     "text": [
      " 283 known : 1080 knows : 901 kolchak : 78 kong : 270 korean : 131 kubrick : 130 kudos : 128 kumar : 80 kung : 243 kurosawa : 83 kurt : 149 kyle : 96 la : 552 lab : 131 lack : 1058 lacked : 121 lacking : 277 lackluster : 79 lacks : 365 ladies : 295 lady : 848 laid : 160 lake : 250 lame : 742 land : 362 landing : 81 landscape : 115 landscapes : 86 lane : 170 language : 529 large : 556 largely : 227 larger : 143 larry : 183 last : 2933 lasted : 99 late : 1211 lately : 96 later : 2200 latest : 201 latin : 94 latter : 362 laugh : 1374 laughable : 422 laughably : 82 laughed : 366 laughing : 528 laughs : 658 laughter : 244 laura : 166 laurel : 121 law : 510 lawrence : 111 laws : 96 lawyer : 210 lay : 93 lazy : 168 le : 143 lead : 1310 leader : 248 leading : 622 leads : 750 league : 176 learn : 720 learned : 254 learning : 175 learns : 226 least : 3112 leave : 1107 leaves : 683 leaving : 482 led : 330 lee : 814 left : 2125 leg : 112 legacy : 80 legal : 87 legend : 301 legendary : 192 legs : 160 lemmon : 109 lena : 99 length : 336 lengthy : 89 leo : 96 leon : 81 leonard : 111 les : 84 lesbian : 205 leslie : 173 less : 2002 lesser : 165 lesson : 256 lessons : 151 let : 2341 lets : 334 letter : 139 letters : 95 letting : 146 level : 963 levels : 235 lewis : 276 li : 114 liberal : 121 library : 140 lie : 171 lies : 290 life : 6628 lifestyle : 104 lifetime : 187 light : 976 lighting : 361 lights : 181 likable : 382 like : 20274 liked : 1516 likely : 422 likes : 466 likewise : 89 liking : 108 lily : 132 limited : 303 limits : 99 lincoln : 176 linda : 105 line : 1870 liners : 206 lines : 1552 link : 100 lion : 166 lips : 109 lisa : 186 list : 585 listed : 125 listen : 331 listening : 187 lit : 109 literally : 468 literature : 91 little : 6435 live : 1552 lived : 382 lively : 88 lives : 1392 living : 1063 lloyd : 139 load : 116 loaded : 85 loads : 100 local : 877 location : 337 locations : 263 locked : 167 logan : 79 logic : 250 logical : 122 lol : 106 london : 460 lone : 87 lonely : 188 long : 3449 longer : 477 look : 4145 looked : 1010 looking : 2483 looks : 2413 loose : 278 loosely : 118 lord : 348 los : 123 lose : 345 loser : 140 losers : 88 loses : 263 losing : 220 loss : 271 lost : 1554 lot : 3979 lots : 799 lou : 124 loud : 436 louis : 225 louise : 90 lousy : 220 lovable : 144 love : 6454 loved : 1428 lovely : 424 lover : 397 lovers : 291 loves : 404 loving : 316 low : 1799 lower : 214 lowest : 92 loyal : 100 loyalty : 80 lucas : 143 luck : 262 luckily : 130 lucky : 258 lucy : 160 ludicrous : 176 lugosi : 195 luke : 258 lumet : 100 lundgren : 92 lust : 108 lying : 146 lynch : 278 lyrics : 104 macarthur : 98 machine : 324 machines : 113 macy : 102 mad : 499 made : 8362 madness : 162 madonna : 111 mafia : 131 magazine : 136 maggie : 105 magic : 468 magical : 194 magnificent : 261 maid : 84 mail : 90 main : 2264 mainly : 393 mainstream : 202 maintain : 93 major : 927 majority : 238 make : 8023 maker : 167 makers : 490 makes : 4202 makeup : 206 making : 2961 male : 666 mall : 93 malone : 80 man : 5982 manage : 272 managed : 425 manager : 159 manages : 583 manhattan : 121 maniac : 83 manipulative : 88 mankind : 89 mann : 124 manner : 410 mansion : 161 many : 6675 map : 84 marc : 79 march : 103 margaret : 114 maria : 175 marie : 253 mario : 99 marion : 86 mark : 645 market : 218 marketing : 84 marks : 120 marriage : 417 married : 590 marry : 226 mars : 93 marshall : 80 martial : 328 martin : 367 marty : 90 marvelous : 160 mary : 567 mask : 221 masks : 79 mass : 161 massacre : 145 masses : 83 massive : 192 master : 453 masterful : 87 masterpiece : 612 masterpieces : 85 masters : 107 match : 588 matched : 89 matches : 101 mate : 122 material : 760 matrix : 197 matt : 226 matter : 1127 matters : 224 matthau : 156 matthew : 115 mature : 182 max : 215 may : 3386 maybe : 2340 mayor : 96 mclaglen : 83 mean : 1683 meaning : 473 meaningful : 144 meaningless : 108 means : 761 meant : 614 meanwhile : 249 measure : 104 meat : 127 mechanical : 85 media : 305 medical : 152 mediocre : 365 medium : 132 meet : 668 meeting : 237 meets : 677 mel : 119 melodrama : 188 melodramatic : 122 melting : 101 member : 327 members : 552 memorable : 666 memories : 279 memory : 306 men : 1909 menace : 100 menacing : 126 mental : 309 mentally : 160 mention : 811 mentioned : 564 mentioning : 85 mentions : 85 mere : 181 merely : 359 merit : 112 merits : 81 meryl : 83 mess : 641 message : 829 messages : 131 messed : 91 met : 286 metal : 189 metaphor : 81 method : 103 methods : 85 mexican : 184 mexico : 185 mgm : 199 michael : 1333 michelle : 172 mickey : 108 mid : 319 middle : 956 midnight : 178 might : 2919 mighty : 87 miike : 132 mike : 281 mild : 133 mildly : 174 mildred : 115 mile : 123 miles : 260 military : 462 milk : 79 mill : 104 miller : 169 million : 397 millionaire : 79 millions : 149 min : 91 mind : 1995 minded : 162 mindless : 154 minds : 185 mine : 275 mini : 213 minimal : 119 minimum : 84 minor : 400 minute : 789 minutes : 2952 miracle : 94 mirror : 168 miscast : 143 miserable : 100 miserably : 124 misery : 92 miss : 883 missed : 565 misses : 118 missing : 594 mission : 265 mistake : 426 mistaken : 108 mistakes : 200 mistress : 88 mitchell : 125 mix : 367 mixed : 287 mixture : 103 miyazaki : 83 mm : 83 mob : 157 model : 240 models : 105 modern : 929 modesty : 122 molly : 89 mom : 367 moment : 1112 moments : 1663 mon : 84 money : 2362 monk : 85 monkey : 132 monkeys : 98 monster : 655 monsters : 277 montage : 103 montana : 95 month : 148 months : 272 mood : 432 moody : 98 moon : 296 moore : 227 moral : 366 morality : 122 morgan : 275 morning : 266 moronic : 83 morris : 98 mostly : 941 mother : 1524 motion : 449 motivation : 122 motivations : 95 motives : 103 mountain : 196 mountains : 110 mouse : 168 mouth : 332 move : 727 moved : 322 movement : 206 movements : 115 moves : 530 movie : 44031 movies : 7663 moving : 854 mr : 1448 mrs : 260 ms : 350 mst : 180 mtv : 86 much : 9765 multi : 140 multiple : 190 mummy : 108 mundane : 86 murder : 1063 murdered : 260 murderer : 179 murderous : 109 murders : 367 murphy : 213 murray : 81 museum : 96 music : 3056 musical : 992 musicals : 175 muslim : 85 must : 3249 myers : 97 mysteries : 105 mysterious : 404 mystery : 850 nail : 98 naive : 218 naked : 437 name : 1604 named : 799 namely : 96 names : 391 nancy : 227 narration : 192 narrative : 424 narrator : 125 nasty : 342 nathan : 82 nation : 186 national : 255 native : 238 natural : 463 naturally : 267 nature : 711 navy : 162 nazi : 190 nazis : 114 nd : 145 near : 824 nearby : 109 nearly : 815 neat : 149 necessarily : 180 necessary : 324 neck : 141 ned : 182 need : 1807 needed : 683 needless : 162 needs : 841 negative : 352 neighbor : 139 neighborhood : 143 neighbors : 89 neil : 134 neither : 537 nelson : 152 neo : 112 nephew : 84 nerd : 83 nervous : 97 network : 190 never : 6484 nevertheless : 236 new : 4310 newly : 89 newman : 79 news : 331 newspaper : 113 next : 1716 nice : 2012 nicely : 299 nicholas : 92 nicholson : 113 nick : 293 nicole : 82 night : 2163 nightmare : 318 nightmares : 108 nights : 130 nine : 161 ninja : 86 niro : 100 noble : 152 nobody : 452 noir : 419 noise : 137 nominated : 222 nomination : 98 non : 898 none : 1032 nonetheless : 163 nonsense : 286 nonsensical : 82 normal : 457 normally : 304 norman : 127 north : 213 nose : 146 nostalgia : 91 nostalgic : 97 notable : 168 notably : 119 notch : 199 note : 718 noted : 144 notes : 123 nothing : 4290 notice : 366 noticed : 272 notion : 104 notorious : 172 novak : 86 novel : 958 novels : 168 nowadays : 167 nowhere : 443 nuclear : 129 nude : 198 nudity : 596 number : 1006 numbers : 403 numerous : 270 nurse : 125 nuts : 88 nyc : 86 object : 142 objective : 79 obnoxious : 164 obscure : 119 obsessed : 235 obsession : 162 obvious : 1066 obviously : 1163 occasion : 106 occasional : 193 occasionally : 256 occur : 112 occurred : 114 occurs : 131 ocean : 103 odd : 582 oddly : 160 odds : 108 offended : 104 offensive : 211 offer : 378 offered : 192 offering : 109 offers : 346 office : 567 officer : 280 officers : 107 official : 106 often : 1601 oh : 1449 oil : 142 ok : 1016 okay : 706 old : 4525 older : 656 oliver : 220 olivier : 107 ollie : 95 omen : 85 one : 26788 ones : 953 online : 89 onto : 328 open : 664 opened : 155 opening : 979 opens : 259 opera : 396 operation : 90 opinion : 959 opinions : 89 opportunities : 85 opportunity : 393 opposed : 122 opposite : 266 orange : 85 order : 951 ordered : 79 orders : 109 ordinary : 267 original : 3376 originality : 171 originally : 290 orleans : 85 orson : 96 oscar : 861 oscars : 146 othello : 87 others : 1595 otherwise : 670 ought : 114 outcome : 118 outer : 104 outfit : 101 outrageous : 124 outside : 596 outstanding : 417 overacting : 87 overall : 1434 overcome : 154 overdone : 120 overlook : 86 overlooked : 128 overly : 249 overrated : 114 overwhelming : 109 owen : 87 owner : 263 oz : 102 pace : 550 paced : 300 pacing : 295 pacino : 202 pack : 152 package : 82 packed : 157 page : 390 paid : 358 pain : 379 painful : 417 painfully : 240 paint : 192 painted : 102 painting : 136 pair : 241 pal : 91 palace : 84 palance : 79 palma : 108 paltrow : 94 pamela : 85 pan : 103 panic : 116 pants : 94 paper : 226 par : 229 parallel : 89 paranoia : 93 parent : 119 parents : 762 paris : 405 park : 371 parker : 243 parody : 246 part : 4042 particular : 730 particularly : 1079 parties : 87 partly : 127 partner : 277 parts : 1191 party : 550 pass : 420 passable : 80 passed : 246 passes : 106 passing : 191 passion : 296 passionate : 99 past : 1263 pat : 142 path : 197 pathetic : 468 patience : 81 patient : 158 patients : 89 patrick : 223 paul : 897 paulie : 119 pay : 610 paying : 184 pays : 106 peace : 205 peak : 81 pearl : 94 people : 9285 peoples : 100 per : 161 perfect : 1598 perfection : 144 perfectly : 637 perform : 150 performance : 2896 performances : 1821 performed : 192 performer : 103 performers : 150 performing : 131 performs : 84 perhaps : 1681 period : 766 perry : 123 person : 1596 persona : 127 personal : 629 personalities : 156 personality : 338 personally : 446 persons : 90 perspective : 266 pet : 166 pete : 80 peter : 770 peters : 83 petty : 83 pg : 145 phantom : 89 phil : 80 philip : 162 philosophical : 99 philosophy : 109 phone : 321 phony : 84 photo : 86 photographed : 126 photographer : 118 photography : 406 photos : 95 physical : 307 physically : 151 piano : 124 pick : 452 picked : 330 picking : 122 picks : 169 picture : 1484 pictures : 453 pie : 142 piece : 1536 pieces : 424 pierce : 82 pig : 102 pile : 207 pilot : 300 pin : 82 pink : 85 pit : 88 pitch : 155 pitt : 194 pity : 229 place : 2411 placed : 188 places : 411 plague : 146 plain : 568 plan : 421 plane : 322 planet : 502 planned : 101 planning : 124 plans : 204 plant : 95 plastic : 148 plausible : 87 play : 2237 played : 2588 player : 300 players : 286 playing : 1633 plays : 2214 pleasant : 234 pleasantly : 124 please : 1045 pleased : 127 pleasure : 309 plenty : 632 plight : 91 plot : 6585 plots : 285 plus : 645 poem : 85 poetic : 96 poetry : 92 poignant : 156 point : 3225 pointed : 135 pointless : 504 points : 814 pokemon : 93 polanski : 106 police : 1097 polished : 85 political : 608 politically : 106 politics : 208 pool : 153 poor : 1897 poorly : 713 pop : 316 popcorn : 112 pops : 89 popular : 550 popularity : 83 population : 113 porn : 366 porno : 98 portion : 104 portrait : 145 portray : 264 portrayal : 508 portrayed : 601 portraying : 227 portrays : 229 position : 179 positive : 518 possessed : 108 possibilities : 98 possibility : 107 possible : 999 possibly : 709 post : 483 poster : 120 pot : 100 potential : 612 potentially : 91 poverty : 133 powell : 213 power : 948 powerful : 620 powers : 317 practically : 234 practice : 100 praise : 171 pre : 309 precious : 121 predictable : 854 prefer : 175 pregnant : 178 premiere : 78 premise : 712 prepared : 171 prequel : 85 presence : 410 present : 616 presentation : 160 presented : 415 presents : 207 president : 251 press : 127 pressure : 80 preston : 80 presumably : 127 pretend : 112 pretending : 95 pretentious : 269 pretty : 3664 prevent : 123 preview : 97 previous : 630 previously : 204 prey : 79 price : 296 priceless : 86 pride : 151 priest : 226 primarily : 104 primary : 106 prime : 202 prince : 300 princess : 197 principal : 104 print : 200 prior : 192 prison : 493 prisoner : 89 prisoners : 89 private : 270 prize : 95 pro : 142 probably : 2841 problem : 1451 problems : 886 proceedings : 112 proceeds : 88 process : 301 produce : 229 produced : 555 producer : 436 producers : 491 producing : 108 product : 232 production : 1790 productions : 183 professional : 335 professor : 208 profound : 139 program : 253 progress : 120 progresses : 91 project : 492 projects : 131 prom : 115 promise : 219 promised : 97 promises : 84 promising : 207 proof : 148 propaganda : 203 proper : 229 properly : 167 property : 87 props : 106 prostitute : 109 protagonist : 238 protagonists : 146 protect : 165 proud : 188 prove : 265 proved : 249 proves : 358 provide : 305 provided : 207 provides : 350 providing : 118 provoking : 166 pseudo : 112 psychiatrist : 122 psychic : 85 psycho : 247 psychological : 265 psychotic : 120 public : 564 pull : 342 pulled : 273 pulling : 121 pulls : 184 pulp : 111 punch : 173 punishment : 84 punk : 106 puppet : 81 purchase : 96 purchased : 90 pure : 562 purely : 169 purple : 116 purpose : 439 purposes : 84 pursuit : 85 push : 124 pushed : 127 pushing : 118 put : 2380 puts : 380 putting : 369 qualities : 207 quality : 1301 queen : 347 quest : 183 question : 685 questionable : 91 questions : 479 quick : 338 quickly : 639 quiet : 284 quinn : 83 quirky : 174 quit : 83 quite : 3738 quote : 145 quotes : 98 rabbit : 88 race : 365 rachel : 189 racial : 99 racism : 153 racist : 177 radio : 284 rage : 111 rain : 201 raines : 79 raise : 164 raised : 170 raising : 94 ralph : 147 rambo : 114 ramones : 83 ran : 239 random : 361 randomly : 85 randy : 87 range : 234 rangers : 86 rank : 102 ranks : 113 rap : 124 rape : 365 raped : 126 rare : 442 rarely : 315 rat : 108 rate : 626 rated : 507 rather : 2733 rating : 928 ratings : 166 rats : 87 rave : 82 raw : 176 ray : 378 raymond : 92 rd : 123 reach : 246 reached : 115 reaches : 102 reaching : 95 react : 108 reaction : 249 reactions : 136 read : 1964 reader : 80 reading : 685 reads : 93 ready : 336 real : 4737 realise : 126 realism : 279 realistic : 757 reality : 987 realize : 654 realized : 317 realizes : 199 realizing : 98 really : 11736 reason : 2323 reasonable : 117 reasonably : 119 reasons : 596 rebel : 103 recall : 226 receive : 112 received : 262 receives : 83 recent : 510 recently : 579 recognition : 90 recognize : 195 recognized : 113 recommend : 1667 recommended : 489 record : 283 recorded : 104 recording : 85 red : 819 redeeming : 326 redemption : 143 reduced : 118 reed : 163 reel : 88 reference : 166 references : 249 reflect : 92 reflection : 81 refreshing : 206 refused : 78 refuses : 154 regard : 166 regarding : 174 regardless : 125 regret : 189 regular : 266 reid : 86 relate : 235 related : 202 relation : 94 relations : 102 relationship : 966 relationships : 361 relative : 126 relatively : 213 relatives : 89 release : 807 released : 986 relevant : 132 relief : 242 relies : 106 religion : 238 religious : 310 remain : 209 remained"
     ]
    },
    {
     "name": "stdout",
     "output_type": "stream",
     "text": [
      " : 78 remaining : 120 remains : 439 remake : 583 remarkable : 309 remarkably : 105 remarks : 91 remember : 1702 remembered : 258 remind : 157 reminded : 347 reminds : 297 reminiscent : 175 remote : 163 remotely : 189 removed : 108 rendition : 90 rent : 719 rental : 214 rented : 337 renting : 177 repeat : 143 repeated : 204 repeatedly : 119 repetitive : 123 replaced : 162 report : 96 reporter : 213 represent : 103 represented : 99 represents : 132 reputation : 191 required : 190 requires : 132 rescue : 231 research : 222 resemblance : 107 resemble : 80 resembles : 113 resident : 85 resist : 84 resolution : 130 resort : 89 resources : 89 respect : 499 respected : 83 respectively : 79 response : 122 responsibility : 88 responsible : 275 rest : 1803 restaurant : 119 restored : 90 result : 632 resulting : 82 results : 274 retarded : 161 retired : 82 return : 624 returned : 117 returning : 126 returns : 307 reunion : 151 reveal : 189 revealed : 256 revealing : 122 reveals : 183 revelation : 133 revenge : 555 review : 849 reviewer : 240 reviewers : 267 reviews : 717 revolution : 188 revolutionary : 103 revolves : 154 rex : 128 reynolds : 129 rich : 587 richard : 847 richards : 90 richardson : 92 rick : 105 rid : 118 ridden : 88 ride : 413 ridiculous : 964 ridiculously : 112 riding : 155 right : 3313 rights : 184 ring : 312 rings : 185 rip : 323 ripped : 138 rise : 235 rises : 79 rising : 89 risk : 162 rita : 80 ritter : 135 rival : 161 river : 289 riveting : 99 road : 435 rob : 252 robbery : 92 robbins : 80 robert : 951 roberts : 142 robin : 248 robinson : 93 robot : 217 robots : 112 rochester : 155 rock : 876 rocket : 102 rocks : 138 rocky : 86 roger : 203 rogers : 170 role : 3188 roles : 1112 roll : 338 rolled : 83 rolling : 183 roman : 107 romance : 694 romantic : 854 romero : 117 romp : 81 ron : 183 room : 945 rooms : 99 rooney : 87 root : 122 roots : 82 rose : 244 ross : 82 roth : 96 rotten : 96 rough : 186 round : 244 routine : 201 row : 132 roy : 228 royal : 87 rubber : 90 rubbish : 275 ruby : 94 ruin : 203 ruined : 227 ruins : 84 rukh : 86 rule : 188 rules : 231 run : 1218 running : 992 runs : 513 rural : 110 rush : 139 rushed : 138 russell : 208 russia : 79 russian : 302 ruth : 121 ruthless : 101 ryan : 224 sabrina : 84 sacrifice : 127 sad : 996 sadistic : 112 sadly : 575 sadness : 112 safe : 227 safety : 98 saga : 101 said : 2196 sake : 246 sally : 134 sam : 456 samurai : 125 san : 186 sandler : 174 sandra : 98 santa : 276 sappy : 94 sarah : 192 sat : 293 satan : 128 satire : 261 satisfied : 106 satisfy : 87 satisfying : 216 saturday : 220 savage : 128 save : 1023 saved : 276 saves : 143 saving : 276 saw : 3167 say : 5395 saying : 946 says : 1110 scale : 209 scare : 219 scarecrow : 98 scared : 304 scares : 189 scary : 988 scenario : 183 scene : 5378 scenery : 407 scenes : 5207 scheme : 106 school : 1659 sci : 658 science : 549 scientific : 119 scientist : 337 scientists : 140 scooby : 136 scope : 97 score : 1030 scores : 91 scotland : 84 scott : 584 scottish : 93 scream : 268 screaming : 271 screams : 117 screen : 2493 screening : 173 screenplay : 695 screenwriter : 161 script : 3026 scripted : 118 scripts : 147 scrooge : 93 sea : 264 seagal : 156 sean : 263 search : 298 searching : 147 season : 773 seasons : 237 seat : 232 second : 1962 secondly : 104 seconds : 348 secret : 611 secretary : 138 secretly : 93 secrets : 113 section : 206 security : 194 see : 11475 seed : 101 seeing : 2099 seek : 179 seeking : 161 seeks : 86 seem : 2175 seemed : 1363 seemingly : 347 seems : 3618 seen : 6679 sees : 537 segment : 255 segments : 139 seldom : 80 self : 1185 selfish : 112 sell : 232 sellers : 99 selling : 129 semi : 210 send : 231 sends : 139 sense : 2325 senseless : 101 senses : 79 sensitive : 181 sent : 395 sentence : 105 sentimental : 146 separate : 149 september : 93 sequel : 818 sequels : 224 sequence : 875 sequences : 728 serial : 394 series : 3416 serious : 989 seriously : 1002 serve : 167 served : 158 serves : 203 service : 209 serving : 86 set : 2455 sets : 852 setting : 634 settings : 175 settle : 104 seven : 359 seventies : 112 several : 1420 severe : 98 sex : 1683 sexual : 710 sexuality : 150 sexually : 134 sexy : 445 sh : 103 shadow : 181 shadows : 117 shake : 95 shakespeare : 296 shaky : 80 shall : 133 shallow : 259 shame : 671 shanghai : 81 shape : 159 share : 367 shark : 141 sharp : 206 shaw : 100 shed : 82 sheer : 247 shelf : 103 shelley : 95 sheriff : 244 shine : 109 shines : 149 shining : 129 ship : 347 ships : 79 shirley : 103 shirt : 118 shock : 385 shocked : 209 shocking : 339 shoes : 121 shoot : 460 shooting : 479 shoots : 142 shop : 263 short : 1865 shortly : 122 shorts : 148 shot : 2051 shots : 947 show : 6295 showcase : 90 showdown : 84 showed : 489 shower : 159 showing : 775 shown : 994 shows : 2308 shut : 167 shy : 125 sick : 487 sid : 82 side : 1277 sidekick : 105 sides : 157 sidney : 180 sight : 323 sign : 274 signed : 89 significance : 80 significant : 182 signs : 106 silence : 130 silent : 439 silly : 888 silver : 139 similar : 852 similarities : 98 similarly : 98 simmons : 84 simon : 272 simple : 1023 simplicity : 91 simplistic : 101 simply : 1965 simpson : 95 sin : 157 sinatra : 245 since : 2906 sincere : 86 sing : 270 singer : 274 singers : 79 singing : 520 single : 918 sings : 148 sinister : 163 sink : 87 sir : 185 sirk : 93 sissy : 82 sister : 818 sisters : 207 sit : 709 sitcom : 166 site : 244 sits : 95 sitting : 451 situation : 669 situations : 486 six : 386 sixties : 83 size : 125 skill : 180 skills : 267 skin : 212 skip : 305 skull : 78 sky : 321 slap : 121 slapstick : 176 slasher : 491 slaughter : 89 slave : 117 sleazy : 164 sleep : 325 sleeping : 179 slice : 80 slick : 93 slight : 137 slightest : 122 slightly : 541 sloppy : 117 slow : 1131 slowly : 412 small : 1646 smaller : 105 smart : 406 smile : 289 smiling : 87 smith : 493 smoke : 118 smoking : 134 smooth : 128 snake : 110 sneak : 84 snl : 97 snow : 152 soap : 284 soccer : 101 social : 582 society : 674 soderbergh : 83 soft : 297 sold : 162 soldier : 348 soldiers : 422 sole : 120 solely : 97 solid : 503 solo : 100 solution : 88 solve : 139 somebody : 299 somehow : 757 someone : 2339 something : 5077 sometimes : 1218 somewhat : 965 somewhere : 483 son : 1357 song : 1008 songs : 908 sons : 149 soon : 1222 sophisticated : 129 sopranos : 78 sorry : 771 sort : 1472 sorts : 190 soul : 420 souls : 122 sound : 1320 sounded : 175 sounding : 97 sounds : 645 soundtrack : 764 source : 206 south : 472 southern : 164 soviet : 118 space : 755 spacey : 83 spain : 85 spanish : 281 spare : 107 spark : 79 speak : 522 speaking : 405 speaks : 202 special : 2113 specially : 85 species : 96 specific : 135 specifically : 101 spectacular : 248 speech : 200 speed : 249 spell : 137 spend : 508 spending : 133 spends : 187 spent : 536 spider : 87 spielberg : 154 spike : 133 spin : 152 spirit : 544 spirited : 127 spirits : 106 spiritual : 125 spite : 179 splatter : 100 splendid : 123 split : 144 spock : 92 spoil : 214 spoiled : 123 spoiler : 406 spoilers : 570 spoke : 91 spoken : 169 spoof : 171 spooky : 124 sport : 108 sports : 228 spot : 379 spots : 143 spread : 91 spring : 124 spy : 205 square : 93 st : 360 stack : 79 staff : 109 stage : 714 staged : 111 stale : 87 stallone : 91 stan : 144 stand : 815 standard : 448 standards : 355 standing : 249 stands : 398 stanley : 168 stanwyck : 161 star : 2087 stargate : 83 staring : 93 starred : 183 starring : 484 stars : 1695 start : 1700 started : 963 starting : 283 starts : 1220 state : 533 stated : 132 statement : 190 states : 335 station : 321 status : 182 stay : 787 stayed : 182 staying : 109 stays : 182 steal : 247 stealing : 144 steals : 212 steel : 95 stellar : 102 step : 373 stephen : 327 steps : 146 stereotype : 98 stereotypes : 245 stereotypical : 177 steve : 483 steven : 241 stevens : 94 stewart : 468 stick : 469 sticks : 117 stiff : 133 still : 5623 stiller : 117 stilted : 93 stinker : 102 stinks : 97 stock : 255 stole : 115 stolen : 190 stomach : 167 stone : 356 stood : 133 stooges : 95 stop : 1084 stopped : 230 stops : 158 store : 519 stories : 1179 storm : 152 story : 11983 storyline : 804 storytelling : 173 straight : 864 strange : 926 strangely : 166 stranger : 155 strangers : 81 streep : 103 street : 699 streets : 269 streisand : 152 strength : 245 stress : 98 stretch : 144 stretched : 83 strictly : 129 strike : 131 strikes : 135 striking : 137 string : 124 strip : 143 strong : 1096 stronger : 133 strongly : 222 struck : 128 structure : 206 struggle : 327 struggles : 155 struggling : 198 stuart : 80 stuck : 350 student : 391 students : 361 studio : 517 studios : 181 study : 250 stuff : 1174 stumbled : 78 stunned : 82 stunning : 405 stunt : 136 stunts : 139 stupid : 1701 stupidity : 158 style : 1601 styles : 114 stylish : 158 sub : 371 subject : 709 subjected : 79 subjects : 107 subplot : 121 subplots : 87 subsequent : 121 substance : 219 subtitles : 190 subtle : 434 subtlety : 102 succeed : 150 succeeded : 106 succeeds : 167 success : 585 successful : 524 successfully : 161 suck : 177 sucked : 251 sucks : 280 sudden : 248 suddenly : 538 sue : 91 suffer : 181 suffered : 150 suffering : 250 suffers : 201 suffice : 84 suggest : 377 suggested : 81 suggests : 145 suicide : 316 suit : 311 suitable : 94 suited : 111 suits : 121 sullivan : 192 sum : 159 summary : 178 summer : 374 sun : 193 sunday : 190 sunshine : 117 super : 500 superb : 671 superbly : 126 superficial : 112 superhero : 119 superior : 311 superman : 308 supernatural : 201 support : 393 supported : 81 supporting : 899 suppose : 397 supposed : 1516 supposedly : 365 sure : 2683 surely : 417 surface : 192 surfing : 102 surprise : 715 surprised : 801 surprises : 203 surprising : 302 surprisingly : 466 surreal : 208 surrounded : 134 surrounding : 134 survival : 106 survive : 260 survived : 91 surviving : 104 survivor : 85 survivors : 101 susan : 186 suspect : 301 suspects : 156 suspend : 84 suspense : 739 suspenseful : 192 suspicious : 88 sutherland : 160 swear : 113 swedish : 112 sweet : 572 swim : 83 swimming : 97 switch : 97 sword : 195 symbolism : 114 sympathetic : 229 sympathy : 199 synopsis : 111 system : 370 table : 181 tacky : 79 tad : 97 tag : 99 take : 3507 taken : 986 takes : 2192 taking : 955 tale : 790 talent : 933 talented : 586 talents : 268 tales : 166 talk : 842 talked : 126 talking : 954 talks : 220 tall : 121 tame : 111 tank : 80 tap : 115 tape : 234 tarantino : 82 target : 211 tarzan : 291 task : 174 taste : 437 taught : 95 taxi : 91 taylor : 315 tea : 136 teach : 137 teacher : 314 teaching : 82 team : 823 tear : 138 tears : 324 tech : 82 technical : 305 technically : 195 technicolor : 80 technique : 150 techniques : 136 technology : 245 ted : 198 tedious : 218 teen : 339 teenage : 325 teenager : 221 teenagers : 217 teens : 198 teeth : 181 television : 904 tell : 1718 telling : 613 tells : 880 temple : 122 ten : 829 tend : 215 tender : 101 tends : 86 tense : 152 tension : 541 term : 167 terms : 433 terrible : 1638 terribly : 274 terrific : 433 terrifying : 142 territory : 123 terror : 197 terrorist : 103 terrorists : 89 terry : 112 test : 236 testament : 83 texas : 210 text : 158 th : 745 thank : 439 thankfully : 182 thanks : 472 thats : 345 theater : 828 theaters : 229 theatre : 319 theatrical : 228 theme : 816 themes : 423 theory : 192 therefore : 335 thick : 116 thief : 158 thin : 360 thing : 4526 things : 3688 think : 7296 thinking : 1179 thinks : 437 third : 739 thirty : 141 thomas : 254 thompson : 85 thoroughly : 350 though : 4566 thought : 3437 thoughtful : 98 thoughts : 219 thousand : 145 thousands : 153 threat : 116 threatening : 126 three : 2295 threw : 112 thrill : 111 thriller : 895 thrillers : 151 thrilling : 157 thrills : 129 throat : 122 throughout : 1360 throw : 402 throwing : 173 thrown : 409 throws : 167 thru : 97 thugs : 111 thumbs : 136 thus : 418 ticket : 124 tie : 102 tied : 149 ties : 104 tiger : 87 tight : 182 till : 213 tim : 309 time : 12724 timeless : 121 times : 3235 timing : 169 timon : 94 timothy : 118 tiny : 214 tired : 380 tiresome : 92 titanic : 190 title : 1497 titled : 121 titles : 172 today : 1243 todd : 112 together : 2243 toilet : 130 told : 1063 tom : 785 tomatoes : 88 tommy : 113 tone : 500 tongue : 156 tonight : 96 tons : 134 tony : 522 took : 1100 tooth : 86 top : 1847 topic : 160 topless : 101 torn : 154 torture : 300 tortured : 116 total : 631 totally : 1307 touch : 472 touched : 170 touches : 206 touching : 435 tough : 479 tour : 154 toward : 285 towards : 637 town : 1279 toy : 169 toys : 107 track : 399 tracks : 105 tracy : 165 trade : 140 trademark : 81 tradition : 162 traditional : 257 tragedy : 362 tragic : 348 trail : 83 trailer : 377 trailers : 102 train : 411 trained : 97 training : 218 transfer : 95 transformation : 100 transition : 91 translation : 117 trap : 124 trapped : 188 trash : 504 trashy : 99 travel : 246 traveling : 101 travels : 105 travesty : 84 treasure : 202 treat : 320 treated : 275 treatment : 235 treats : 97 tree : 175 trees : 104 trek : 259 tremendous : 127 trial : 152 tribe : 84 tribute : 138 trick : 171 tricks : 137 tried : 773 tries : 1274 trilogy : 216 trio : 112 trip : 492 trite : 152 triumph : 115 troops : 89 trouble : 522 troubled : 145 troubles : 84 truck : 174 true : 2333 truly : 1743 trust : 321 truth : 700 try : 1830 trying : 2473 tube : 79 tune : 145 tunes : 119 turkey : 173 turn : 1359 turned : 925 turner : 122 turning : 344 turns : 1251 tv : 2782 twelve : 115 twenty : 299 twice : 387 twilight : 89 twin : 126 twins : 81 twist : 606 twisted : 199 twists : 437 two : 6906 type : 1124 types : 247 typical : 778 typically : 130 ugly : 354 uk : 229 ultimate : 248 ultimately : 521 ultra : 140 un : 190 unable : 247 unaware : 83 unbearable : 116 unbelievable : 434 unbelievably : 116 uncle : 335 uncomfortable : 149 unconvincing : 186 underground : 174 underlying : 82 underrated : 235 understand : 1643 understandable : 97 understanding : 275 understated : 90 understood : 179 undoubtedly : 107 uneven : 107 unexpected : 250 unexpectedly : 79 unfair : 80 unfolds : 104 unforgettable : 143 unfortunate : 208 unfortunately : 1352 unfunny : 267 unhappy : 96 uninspired : 123 unintentional : 108 unintentionally : 135 uninteresting : 198 union : 128 unique : 634 unit : 89 united : 216 universal : 217 universe : 197 university : 131 unknown : 286 unless : 675 unlike : 585 unlikely : 211 unnecessary : 307 unoriginal : 83 unpleasant : 110 unpredictable : 82 unreal : 84 unrealistic : 226 unseen : 83 unsettling : 99 unusual : 310 unwatchable : 106 uplifting : 81 upon : 859 upper : 158 ups : 266 upset : 154 urban : 189 urge : 102 us : 3794 usa : 164 use : 1803 used : 1879 useful : 94 useless : 128 user : 102 uses : 540 using : 801 ustinov : 83 usual : 965 usually : 981 utter : 240 utterly : 454 uwe : 102 vacation : 159 vague : 129 vaguely : 90 valentine : 80 valley : 82 valuable : 93 value : 524 values : 467 vampire : 419 vampires : 249 van : 495 vance : 79 variety : 192 various : 603 vast : 100 vegas : 95 vehicle : 236 vengeance : 94 verhoeven : 118 version : 2157 versions : 253 versus : 109 veteran : 201 vhs : 282 via : 169 vice : 92 vicious : 116 victim : 416 victims : 377 victor : 236 victoria : 233 victory : 80 video : 1730 videos : 136 vietnam : 192 view : 963 viewed : 210 viewer : 1262 viewers : 785 viewing : 750 viewings : 88 views : 182 village : 255 villain : 600 villains : 278 vincent : 145 violence : 1091 violent : 523 virgin : 149 virginia : 94 virtually : 214 virus : 139 visible : 89 vision : 304 visit : 262 visits : 89 visual : 523 visually : 259 visuals : 253 vivid : 109 voice : 1156 voiced : 98 voices : 218 voight : 111 von : 184 vote : 222 vs : 273 vulnerable : 91 wacky : 84 wait : 718 waited : 95 waiting : 549 waitress : 85 wake : 140 walk : 511 walked : 195 walken : 142 walker : 117 walking : 439 walks : 213 wall : 367 wallace : 116 walls : 133 walsh : 86 walter : 221 wandering : 90 wang : 81 wanna : 158 wannabe : 117 want : 3703 wanted : 1352 wanting : 298 wants : 1287 war : 2051 ward "
     ]
    },
    {
     "name": "stdout",
     "output_type": "stream",
     "text": [
      ": 126 warm : 227 warming : 109 warmth : 86 warn : 153 warned : 174 warner : 177 warning : 314 warren : 117 warrior : 120 warriors : 82 wars : 332 washington : 272 waste : 1457 wasted : 560 wasting : 150 watch : 6973 watchable : 307 watched : 2236 watches : 122 watching : 4603 water : 547 waters : 108 watson : 85 wave : 173 waves : 93 way : 8026 wayne : 236 ways : 804 weak : 761 weakest : 99 wealth : 109 wealthy : 153 weapon : 148 weapons : 168 wear : 186 wearing : 326 wears : 166 web : 114 website : 112 wedding : 304 week : 460 weekend : 207 weeks : 202 weight : 139 weird : 663 welcome : 214 well : 10662 welles : 251 wells : 121 wendy : 98 went : 1463 werewolf : 272 wes : 121 west : 476 western : 600 westerns : 164 wet : 96 whale : 116 whatever : 732 whats : 85 whatsoever : 319 whenever : 270 whereas : 149 whether : 856 whilst : 280 white : 1492 whoever : 202 whole : 3078 wholly : 82 whoopi : 84 whose : 986 wicked : 118 wide : 281 widely : 87 widmark : 155 widow : 105 wife : 2140 wild : 432 wilderness : 80 william : 596 williams : 344 willie : 85 willing : 320 willis : 92 wilson : 200 win : 491 wind : 274 window : 257 winds : 102 wing : 177 winner : 232 winning : 348 wins : 164 winter : 137 winters : 105 wisdom : 89 wise : 359 wish : 957 wished : 95 wishes : 154 wishing : 85 wit : 234 witch : 322 witches : 92 within : 832 without : 3267 witness : 210 witnessed : 88 witnesses : 89 witty : 273 wives : 105 wizard : 95 wolf : 120 woman : 2795 women : 1819 wonder : 1038 wondered : 126 wonderful : 1656 wonderfully : 324 wondering : 358 wonders : 125 wont : 101 woo : 80 wood : 271 wooden : 330 woods : 400 woody : 240 word : 926 words : 885 wore : 98 work : 4372 worked : 635 worker : 129 workers : 165 working : 794 works : 1278 world : 3835 worlds : 143 worn : 88 worried : 117 worry : 142 worse : 1468 worst : 2731 worth : 2277 worthless : 126 worthwhile : 187 worthy : 362 would : 12436 wound : 94 wounded : 84 wow : 431 wrap : 87 wrapped : 92 wreck : 127 wrestling : 103 wretched : 79 write : 670 writer : 1153 writers : 661 writes : 94 writing : 1304 written : 1616 wrong : 1821 wrote : 573 ww : 85 wwii : 158 ya : 103 yard : 82 yeah : 462 year : 2362 years : 4516 yelling : 92 yellow : 106 yes : 1535 yesterday : 116 yet : 2753 york : 809 young : 3660 younger : 503 youth : 275 zero : 384 zizek : 85 zombie : 740 zombies : 518 zone : 147 "
     ]
    }
   ],
   "source": [
    "import numpy as np\n",
    "#frequency of each word is found using np.sum()\n",
    "dist = np.sum(train_data_features,axis=0)\n",
    "ct = 0\n",
    "for tag,count in zip(vocab,dist):\n",
    "    print(tag,\":\",count,end=\" \")"
   ]
  },
  {
   "cell_type": "code",
   "execution_count": 21,
   "metadata": {},
   "outputs": [
    {
     "name": "stdout",
     "output_type": "stream",
     "text": [
      "['a', 'b', 'c', 'd', 'e', 'f', 'g', 'h', 'i', 'j', 'k', 'l', 'm', 'n', 'o', 'p', 'q', 'r', 's', 't', 'u', 'v', 'w', 'y', 'z']\n"
     ]
    }
   ],
   "source": [
    "startswith = []\n",
    "for val in vocab:\n",
    "    if(val[0] not in startswith):\n",
    "        startswith.append(val[0])\n",
    "print(startswith)"
   ]
  },
  {
   "cell_type": "code",
   "execution_count": 22,
   "metadata": {},
   "outputs": [
    {
     "name": "stdout",
     "output_type": "stream",
     "text": [
      "[316 270 470 301 226 250 151 191 158  71  63 199 276 111  89 336  16 286\n",
      " 593 267  80  68 193  14   5]\n"
     ]
    }
   ],
   "source": [
    "#counting the total numbers of words starting\n",
    "counts = np.zeros((len(startswith)),dtype=np.int)\n",
    "for val in vocab:\n",
    "    index = startswith.index(val[0])\n",
    "    counts[index] += 1\n",
    "print(counts)"
   ]
  },
  {
   "cell_type": "code",
   "execution_count": 23,
   "metadata": {},
   "outputs": [
    {
     "data": {
      "image/png": "[encoded data removed]",
      "text/plain": [
       "<matplotlib.figure.Figure at 0x7ff42d81d080>"
      ]
     },
     "metadata": {},
     "output_type": "display_data"
    }
   ],
   "source": [
    "import matplotlib.pyplot as plt\n",
    "plt.figure(1,figsize=(15,5))\n",
    "plt.plot(counts)\n",
    "nums = [i for i in range(26)]\n",
    "plt.xticks(nums,startswith)\n",
    "plt.grid()\n",
    "plt.ylabel(\"frequency\")\n",
    "plt.show()"
   ]
  },
  {
   "cell_type": "code",
   "execution_count": 24,
   "metadata": {},
   "outputs": [
    {
     "name": "stdout",
     "output_type": "stream",
     "text": [
      "fitting RandomForest . . . \n"
     ]
    }
   ],
   "source": [
    "from sklearn.ensemble import RandomForestClassifier\n",
    "forest = RandomForestClassifier(n_estimators = 100)\n",
    "print(\"fitting RandomForest . . . \")\n",
    "forest = forest.fit(train_data_features,train[\"sentiment\"])"
   ]
  },
  {
   "cell_type": "code",
   "execution_count": 25,
   "metadata": {},
   "outputs": [
    {
     "name": "stdout",
     "output_type": "stream",
     "text": [
      "fitting NaiveBayes . . . \n"
     ]
    },
    {
     "data": {
      "text/plain": [
       "MultinomialNB(alpha=1.0, class_prior=None, fit_prior=True)"
      ]
     },
     "execution_count": 25,
     "metadata": {},
     "output_type": "execute_result"
    }
   ],
   "source": [
    "from sklearn.naive_bayes import MultinomialNB\n",
    "naive = MultinomialNB()\n",
    "print(\"fitting NaiveBayes . . . \")\n",
    "naive.fit(train_data_features,train[\"sentiment\"])"
   ]
  },
  {
   "cell_type": "code",
   "execution_count": 26,
   "metadata": {},
   "outputs": [
    {
     "name": "stdout",
     "output_type": "stream",
     "text": [
      "fitting AdaBoost . . . \n",
      "fitting complete.\n"
     ]
    }
   ],
   "source": [
    "from sklearn.ensemble import AdaBoostClassifier\n",
    "adaboost = AdaBoostClassifier(n_estimators = 100)\n",
    "print(\"fitting AdaBoost . . . \")\n",
    "adaboost.fit(train_data_features,train[\"sentiment\"])\n",
    "print(\"fitting complete.\")"
   ]
  },
  {
   "cell_type": "code",
   "execution_count": 27,
   "metadata": {},
   "outputs": [
    {
     "name": "stdout",
     "output_type": "stream",
     "text": [
      "shape : (25000, 2)\n",
      "<class 'pandas.core.frame.DataFrame'>\n",
      "RangeIndex: 25000 entries, 0 to 24999\n",
      "Data columns (total 2 columns):\n",
      "id        25000 non-null object\n",
      "review    25000 non-null object\n",
      "dtypes: object(2)\n",
      "memory usage: 390.7+ KB\n",
      "None\n"
     ]
    }
   ],
   "source": [
    "test = pd.read_csv(\"data/testData.tsv\",header=0,delimiter=\"\\t\",quoting=3)\n",
    "print(\"shape :\",test.shape)\n",
    "print(test.info())"
   ]
  },
  {
   "cell_type": "code",
   "execution_count": 28,
   "metadata": {},
   "outputs": [
    {
     "name": "stdout",
     "output_type": "stream",
     "text": [
      "Cleaning and parsing . . . . \n",
      "3000  reviews processed . . .\n",
      "6000  reviews processed . . .\n",
      "9000  reviews processed . . .\n",
      "12000  reviews processed . . .\n",
      "15000  reviews processed . . .\n",
      "18000  reviews processed . . .\n",
      "21000  reviews processed . . .\n",
      "24000  reviews processed . . .\n",
      "processing complete.\n"
     ]
    }
   ],
   "source": [
    "num_reviews = len(test[\"review\"])\n",
    "clean_test_reviews = []\n",
    "print(\"Cleaning and parsing . . . . \")\n",
    "for i in range(0,num_reviews):\n",
    "    if((i+1)%3000 == 0):\n",
    "        print(i+1,\" reviews processed . . .\")\n",
    "    clean_review = review_to_words(test[\"review\"][i])\n",
    "    clean_test_reviews.append(clean_review)\n",
    "print(\"processing complete.\")"
   ]
  },
  {
   "cell_type": "code",
   "execution_count": 29,
   "metadata": {},
   "outputs": [
    {
     "name": "stdout",
     "output_type": "stream",
     "text": [
      "predicting using RandomForest . . . \n",
      "predicting using Naive Bayes . . . \n",
      "predicting using AdaBoost . . . \n"
     ]
    }
   ],
   "source": [
    "test_data_features = vectorizer.fit_transform(clean_test_reviews)\n",
    "test_data_features = test_data_features.toarray()\n",
    "print(\"predicting using RandomForest . . . \")\n",
    "result1 = forest.predict(test_data_features)\n",
    "print(\"predicting using Naive Bayes . . . \")\n",
    "result2 = naive.predict(test_data_features)\n",
    "print(\"predicting using AdaBoost . . . \")\n",
    "result3 = adaboost.predict(test_data_features)"
   ]
  },
  {
   "cell_type": "code",
   "execution_count": 30,
   "metadata": {},
   "outputs": [],
   "source": [
    "result = result1+result2+result3\n",
    "for i in range(25000):\n",
    "    if(result[i]==1):\n",
    "        result[i]=0\n",
    "    elif(result[i]==2):\n",
    "        result[i]=1\n",
    "    elif(result[i]==3):\n",
    "        result[i]=1\n",
    "output = pd.DataFrame(data = {\"id\":test[\"id\"],\"sentiment\":result})\n",
    "output.to_csv(\"output/Bag_of_Words_model.csv\", index=False, quoting=3)"
   ]
  },
  {
   "cell_type": "code",
   "execution_count": null,
   "metadata": {
    "collapsed": true
   },
   "outputs": [],
   "source": []
  }
 ],
 "metadata": {
  "kernelspec": {
   "display_name": "Python 3",
   "language": "python",
   "name": "python3"
  },
  "language_info": {
   "codemirror_mode": {
    "name": "ipython",
    "version": 3
   },
   "file_extension": ".py",
   "mimetype": "text/x-python",
   "name": "python",
   "nbconvert_exporter": "python",
   "pygments_lexer": "ipython3",
   "version": "3.6.1"
  }
 },
 "nbformat": 4,
 "nbformat_minor": 2
}
